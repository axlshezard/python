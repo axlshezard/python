{
 "cells": [
  {
   "cell_type": "code",
   "execution_count": 7,
   "metadata": {},
   "outputs": [
    {
     "ename": "SyntaxError",
     "evalue": "invalid syntax (414587154.py, line 2)",
     "output_type": "error",
     "traceback": [
      "\u001b[1;36m  Cell \u001b[1;32mIn[7], line 2\u001b[1;36m\u001b[0m\n\u001b[1;33m    def\u001b[0m\n\u001b[1;37m        ^\u001b[0m\n\u001b[1;31mSyntaxError\u001b[0m\u001b[1;31m:\u001b[0m invalid syntax\n"
     ]
    }
   ],
   "source": [
    "# Enteros\n",
    "def a():\n",
    "    edad = 25\n",
    "    numero_personas = -10\n",
    "\n",
    "    a = edad\n",
    "    b = numero_personas\n",
    "    return a, b\n",
    "\n",
    "resultado_a, resultado_b = a()\n",
    "print(resultado_a, resultado_b)\n",
    "\n",
    "# Flotantes\n",
    "pi = 3.14159\n",
    "altura = 1.75\n",
    "\n",
    "# Booleanos\n",
    "es_mayor_de_edad = True\n",
    "es_estudiante = False\n",
    "\n",
    "# Cadenas de caracteres\n",
    "nombre = \"Juan\"\n",
    "mensaje = 'Hola a todos'\n"
   ]
  }
 ],
 "metadata": {
  "kernelspec": {
   "display_name": "Python 3.11.4 64-bit",
   "language": "python",
   "name": "python3"
  },
  "language_info": {
   "codemirror_mode": {
    "name": "ipython",
    "version": 3
   },
   "file_extension": ".py",
   "mimetype": "text/x-python",
   "name": "python",
   "nbconvert_exporter": "python",
   "pygments_lexer": "ipython3",
   "version": "3.11.4"
  },
  "orig_nbformat": 4,
  "vscode": {
   "interpreter": {
    "hash": "60d4e27d34beca2179537291f6a6c0eefcf5d8ef472d6239e79e4954ea5fbeed"
   }
  }
 },
 "nbformat": 4,
 "nbformat_minor": 2
}
