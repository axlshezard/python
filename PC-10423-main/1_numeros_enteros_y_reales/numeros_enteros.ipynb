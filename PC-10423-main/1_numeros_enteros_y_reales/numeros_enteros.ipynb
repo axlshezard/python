{
 "cells": [
  {
   "cell_type": "markdown",
   "metadata": {},
   "source": [
    "# Números Enteros\n",
    "Los enteros en Python o también conocidos como <span style=\"color:#66D9EF\">int</span>, son un tipo de datos que permite representar números enteros, es decir, positivos y negativos no decimales. Python nos da un sólo tipo que podemos usar sin preocuparnos del tamaño del número almacenado por debajo.  \n",
    "Los tipos enteros o <span style=\"color:#66D9EF \">int</span> en Python permiten almacenar un valor numérico no decimal ya sea positivo o negativo de cualquier valor. La función <span style=\"color:#66D9EF\">type()</span> nos devuelve el tipo de la variable, y podemos ver como efectivamente es de la clase <span style=\"color:#66D9EF\">int</span>"
   ]
  },
  {
   "cell_type": "code",
   "execution_count": 6,
   "metadata": {},
   "outputs": [
    {
     "name": "stdout",
     "output_type": "stream",
     "text": [
      "15\n",
      "<class 'int'>\n"
     ]
    }
   ],
   "source": [
    "'''\n",
    "lo que quieran comentario de bloque\n",
    "'''\n",
    "# Declaramos una variable de tipo entero\n",
    "entero = 15\n",
    "# imprimimos el valor de entero\n",
    "print(entero)\n",
    "# verificamos el tipo con el método type()\n",
    "t = type(entero)\n",
    "print(t)"
   ]
  },
  {
   "cell_type": "markdown",
   "metadata": {},
   "source": [
    "Una gran ventaja de Python es que ya no nos tenemos que preocupar de esto, ya que por debajo se encarga de asignar más o menos memoria al número, y podemos representar prácticamente cualquier número."
   ]
  },
  {
   "cell_type": "code",
   "execution_count": 7,
   "metadata": {},
   "outputs": [
    {
     "name": "stdout",
     "output_type": "stream",
     "text": [
      "46531388344983681457769984555620005635274427815488751368772861643065273360461098097690597702647394229975161523887729348709679192202790820272357752329882392140552515610822058736740145045150003072264722464746837070302159356661765043244993104360887623976285955058200326531849137668562738184397385361179287309286327712528995820702180594566008294593820621769951491324907014215176509758404760451335847252744697820515292329680698271481385779516652518207263143889034764775414387732372812840456880885163361037485452406176311868267428358492408075197688911053603714883403374930891951109790394269793978310190141201019287109375\n",
      "<class 'int'>\n"
     ]
    }
   ],
   "source": [
    "# potencia **\n",
    "enteroM = 255**255\n",
    "print(enteroM)\n",
    "print(type(enteroM))"
   ]
  },
  {
   "cell_type": "markdown",
   "metadata": {},
   "source": [
    "También es posible asignar valores en <span style=\"color: green \">binario</span>,<span style=\"color:green \">hexadecimal</span> y <span style=\"color:green \">octal</span>. El prefijo 0b indica que lo que viene a continuación será interpretado como un número binario. Para el caso hexadecimal es con 0x y octal con 0c. Al imprimir, el número se convierte en decimal para todos los casos."
   ]
  },
  {
   "cell_type": "code",
   "execution_count": 8,
   "metadata": {},
   "outputs": [
    {
     "name": "stdout",
     "output_type": "stream",
     "text": [
      "4\n",
      "23\n",
      "464\n"
     ]
    }
   ],
   "source": [
    "binario = 0b100\n",
    "hexadecimal = 0x17\n",
    "octal = 0o720\n",
    "print(binario)\n",
    "print(hexadecimal)\n",
    "print(octal)"
   ]
  },
  {
   "cell_type": "code",
   "execution_count": 19,
   "metadata": {},
   "outputs": [
    {
     "name": "stdout",
     "output_type": "stream",
     "text": [
      "2966249210224\n",
      "b =  5\n",
      "True\n",
      "False\n"
     ]
    }
   ],
   "source": [
    "# declaro a\n",
    "a = 5\n",
    "# guardar id de a\n",
    "id_a = id(a)\n",
    "# imprime el valor del id\n",
    "print(id_a)\n",
    "\n",
    "# declaramos una nueva variable\n",
    "b = 5\n",
    "print('b = ',b)\n",
    "\n",
    "# recuper id b\n",
    "id_b = id(b)\n",
    "\n",
    "# demostramos que a y b apuntan a el mismo espacio\n",
    "print(id_a == id_b) # True , False\n",
    "\n",
    "# cambio el valor\n",
    "a = 6\n",
    "id_a = id(a)\n",
    "print(id_a == id_b) # True , False"
   ]
  },
  {
   "cell_type": "code",
   "execution_count": 23,
   "metadata": {},
   "outputs": [
    {
     "name": "stdout",
     "output_type": "stream",
     "text": [
      "2966249210544\n",
      "2966249210576\n"
     ]
    }
   ],
   "source": [
    "numero = 15\n",
    "print(id(numero))\n",
    "\n",
    "numero = 16\n",
    "print(id(numero))"
   ]
  },
  {
   "cell_type": "code",
   "execution_count": 31,
   "metadata": {},
   "outputs": [
    {
     "name": "stdout",
     "output_type": "stream",
     "text": [
      "id de la lista 2966328570304\n",
      "['a', 'b']\n",
      "2966250609264\n",
      "['Alfonso', 'b']\n",
      "2966328770416\n",
      "id de la lista 2966328570304\n"
     ]
    }
   ],
   "source": [
    "a = ['a','b']\n",
    "print('id de la lista',id(a))\n",
    "print(a)\n",
    "print(id(a[0]))\n",
    "a[0]='Alfonso'\n",
    "print(a)\n",
    "print(id(a[0]))\n",
    "print('id de la lista',id(a))"
   ]
  },
  {
   "cell_type": "code",
   "execution_count": 42,
   "metadata": {},
   "outputs": [
    {
     "name": "stdout",
     "output_type": "stream",
     "text": [
      "['uno', 2, 3, 4, 5]\n",
      "['uno', 2, 3, 4, 5]\n"
     ]
    }
   ],
   "source": [
    "def cambiarValor(a):\n",
    "    a[0] = 'uno'\n",
    "a = [1,2,3,4,5]\n",
    "b = a\n",
    "\n",
    "#\n",
    "cambiarValor(b)\n",
    "\n",
    "print(a) # [1,2,3,4,5]\n",
    "print(b) # ['uno',2,3,4,5]\n"
   ]
  },
  {
   "cell_type": "code",
   "execution_count": null,
   "metadata": {},
   "outputs": [],
   "source": []
  }
 ],
 "metadata": {
  "kernelspec": {
   "display_name": "Python 3.10.4 64-bit",
   "language": "python",
   "name": "python3"
  },
  "language_info": {
   "codemirror_mode": {
    "name": "ipython",
    "version": 3
   },
   "file_extension": ".py",
   "mimetype": "text/x-python",
   "name": "python",
   "nbconvert_exporter": "python",
   "pygments_lexer": "ipython3",
   "version": "3.10.11"
  },
  "orig_nbformat": 4,
  "vscode": {
   "interpreter": {
    "hash": "9524c4952dd211fec7df7c73b3afac2dbc89a267f70352ce6257a0999e7cce99"
   }
  }
 },
 "nbformat": 4,
 "nbformat_minor": 2
}
