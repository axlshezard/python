{
 "cells": [
  {
   "cell_type": "markdown",
   "metadata": {},
   "source": [
    "# Estructuras de control iterativas\n",
    "Las Estructuras de Control while (mientras) y for (para) nos van a permitir repetir una instrucción o conjunto de instrucciones mientras una expresión booleana resulte verdadera. Se las suele denominar Bucle While y Bucle For con el objetivo de destacar su naturaleza iterativa."
   ]
  },
  {
   "cell_type": "markdown",
   "metadata": {},
   "source": [
    "## For\n",
    "El bucle for nos permitirá establecer cuántas veces queremos o tenemos que iterar, sus componentes son:\n",
    "* Expresión inicial\n",
    "* Condición\n",
    "* Incremento o paso  \n",
    "\n",
    "En pseudocódigo: Para i = 1 Hasta i <= 10 Con Paso 1 Hacer  \n",
    "\n",
    "En Python con todos sus componentes:  \n",
    "```python\n",
    "for expresion in range(valor_inicial,condicion,paso):\n",
    "    instrucciones\n",
    "```\n",
    "Para poder usar este bucle solo es necesario poner la condición de paro, por defecto el valor_inicial = 0 y el paso = 1\n",
    "```python\n",
    "# siempre la condicion es menor que: i < condición\n",
    "for i in range(condicion):\n",
    "    instrucciones\n",
    "# si el paso es -1 es mayor que: i>condición\n",
    "for i in range(valor_inicial,condicion, -1):\n",
    "    instrucciones\n",
    "```\n",
    "\n",
    "En Python, ésta Estructura de Control Iterativa se caracteriza por iterar para cada uno de los elementos de una lista (o Tupla) sin que sea necesario modificar ninguna condición dentro del conjunto de instrucciones que dicho bucle contiene. Es decir, que nos mantendremos dentro del bucle siempre y cuando la lista siga teniendo elementos.\n",
    "\n",
    "Este bucle será de gran utilidad cuando iteremos sobre las filas y columnas de matrices.\n",
    "```python\n",
    "for i in range(n):\n",
    "    instrucciones\n",
    " \n",
    "```"
   ]
  },
  {
   "cell_type": "code",
   "execution_count": 6,
   "metadata": {},
   "outputs": [
    {
     "name": "stdout",
     "output_type": "stream",
     "text": [
      "i =  0\n",
      "i =  1\n",
      "i =  2\n",
      "i =  3\n",
      "i =  4\n",
      "i =  5\n",
      "i =  6\n",
      "i =  7\n",
      "i =  8\n",
      "i =  9\n",
      "i =  10\n"
     ]
    }
   ],
   "source": [
    "#Ejemplo, i tomara valores de 0 a 9, el valor incia es 0 por defecto\n",
    "# i tomara valores menores a 10\n",
    "i = 5\n",
    "n = 10\n",
    "for i in range(n+1): # i<=n\n",
    "    print(\"i = \",i)"
   ]
  },
  {
   "cell_type": "code",
   "execution_count": 10,
   "metadata": {},
   "outputs": [
    {
     "name": "stdout",
     "output_type": "stream",
     "text": [
      "6\n",
      "8\n",
      "10\n",
      "12\n",
      "14\n",
      "16\n",
      "18\n",
      "20\n"
     ]
    }
   ],
   "source": [
    "# Ejemplo con todos sus componentes\n",
    "for i in range(6,20+1,2):\n",
    "    print(i)"
   ]
  },
  {
   "cell_type": "code",
   "execution_count": 13,
   "metadata": {},
   "outputs": [
    {
     "name": "stdout",
     "output_type": "stream",
     "text": [
      "10\n",
      "9\n",
      "8\n",
      "7\n",
      "6\n",
      "5\n",
      "4\n",
      "3\n",
      "2\n",
      "1\n",
      "0\n"
     ]
    }
   ],
   "source": [
    "# Ejemplo con el paso -1\n",
    "n = 0\n",
    "for i in range(10,n-1,-1): # i>0\n",
    "    print(i)"
   ]
  },
  {
   "cell_type": "code",
   "execution_count": 16,
   "metadata": {},
   "outputs": [
    {
     "name": "stdout",
     "output_type": "stream",
     "text": [
      "0\n",
      "1\n",
      "2\n",
      "3\n",
      "4\n",
      "5\n",
      "6\n",
      "7\n",
      "8\n",
      "9\n"
     ]
    }
   ],
   "source": [
    "rango_v = [0,1,2,3,4,5,6,7,8,9] # range(10)\n",
    "for i in rango_v:\n",
    "    print(i)"
   ]
  },
  {
   "cell_type": "code",
   "execution_count": 20,
   "metadata": {},
   "outputs": [
    {
     "name": "stdout",
     "output_type": "stream",
     "text": [
      "inicio =  0\n",
      "final =  2\n",
      "inicio =  1\n",
      "final =  3\n",
      "inicio =  2\n",
      "final =  4\n",
      "inicio =  3\n",
      "final =  5\n",
      "inicio =  4\n",
      "final =  6\n",
      "inicio =  5\n",
      "final =  7\n",
      "inicio =  6\n",
      "final =  8\n",
      "inicio =  7\n",
      "final =  9\n",
      "inicio =  8\n",
      "final =  10\n",
      "inicio =  9\n",
      "final =  11\n"
     ]
    }
   ],
   "source": [
    "\n",
    "for i in range(10):#[0,1,2,3,4,5,6,7,8,9]\n",
    "    print(\"inicio = \",i)\n",
    "    i += 2\n",
    "    print(\"final = \",i)"
   ]
  },
  {
   "cell_type": "code",
   "execution_count": 23,
   "metadata": {},
   "outputs": [
    {
     "name": "stdout",
     "output_type": "stream",
     "text": [
      "letra  =  p\n",
      "letra  =  y\n",
      "letra  =  t\n",
      "letra  =  h\n",
      "letra  =  o\n",
      "letra  =  n\n"
     ]
    }
   ],
   "source": [
    "palabra = \"python\" #[p,y,t,h,o,n]\n",
    "for i in palabra:\n",
    "    print(\"i  = \",i)"
   ]
  },
  {
   "cell_type": "code",
   "execution_count": 30,
   "metadata": {},
   "outputs": [
    {
     "name": "stdout",
     "output_type": "stream",
     "text": [
      "[['1', '2', '3'], ['-', '5', '-'], ['7', 'X', '-']]\n",
      "1\n",
      "2\n",
      "3\n",
      "-\n",
      "5\n",
      "-\n",
      "7\n",
      "X\n",
      "-\n"
     ]
    }
   ],
   "source": [
    "tablero = [[\"1\",\"2\",\"3\"],\n",
    "           [\"-\",\"5\",\"-\"],\n",
    "           [\"7\",\"-\",\"-\"]]\n",
    "fila = 2\n",
    "columna = 1\n",
    "tablero[fila][columna] = \"X\"\n",
    "print(tablero)\n",
    "\n",
    "for f in range(len(tablero[0])):#[0,1,2]\n",
    "    for c in range(len(tablero[0])):\n",
    "        print(tablero[f][c])"
   ]
  },
  {
   "cell_type": "code",
   "execution_count": 45,
   "metadata": {},
   "outputs": [
    {
     "name": "stdout",
     "output_type": "stream",
     "text": [
      "1,2,3\n",
      "-,5,-\n",
      "7,-,-\n"
     ]
    }
   ],
   "source": [
    "tablero = [[\"1\",\"2\",\"3\"],\n",
    "           [\"-\",\"5\",\"-\"],\n",
    "           [\"7\",\"-\",\"-\"]]\n",
    "\n",
    "for i in range(len(tablero[0])):\n",
    "    # print()\n",
    "    for j in range(len(tablero[0])):\n",
    "        if j == 2:\n",
    "            print(tablero[i][j])\n",
    "        else:\n",
    "            print(tablero[i][j],end=\",\")\n",
    "                "
   ]
  },
  {
   "cell_type": "code",
   "execution_count": 58,
   "metadata": {},
   "outputs": [
    {
     "name": "stdout",
     "output_type": "stream",
     "text": [
      "1,2,3\n",
      "-,5\n",
      "7,-,-\n",
      "7,-,-,o\n"
     ]
    }
   ],
   "source": [
    "tablero = [[\"1\",\"2\",\"3\"],\n",
    "           [\"-\",\"5\"],\n",
    "           [\"7\",\"-\",\"-\"],\n",
    "           [\"7\",\"-\",\"-\",\"o\"]\n",
    "           ]\n",
    "'''\n",
    "len(tablero) regresa el tamaño de las filas\n",
    "'''\n",
    "\n",
    "for i in range(len(tablero)):# [0,1,2,3]\n",
    "    l = len(tablero[i]) # 3,2,3,4\n",
    "    for j in range(l):# [0,1,2],[0,1],[0,1,2],[0,1,2,3]\n",
    "        # si j es igual \n",
    "        if j == l-1:\n",
    "            print(tablero[i][j])# salto de linea porque no esta el parametro end\n",
    "        else:\n",
    "            print(tablero[i][j],end=\",\")"
   ]
  },
  {
   "cell_type": "code",
   "execution_count": null,
   "metadata": {},
   "outputs": [],
   "source": [
    "tablero = [[\"1\",\"2\",\"3\"],\n",
    "           [\"-\",\"5\"],\n",
    "           [\"7\",\"-\",\"-\"]]\n",
    "\n"
   ]
  },
  {
   "cell_type": "markdown",
   "metadata": {},
   "source": [
    "## While\n",
    "Esta Estructura de Control Iterativa es muy útil cuando se requiere que un algoritmo se mantenga iterando una cantidad de n-veces hasta que deje de ser verdadera una cierta expresión booleana.\n",
    "```python\n",
    "while(condicion):\n",
    "    instrucciones\n",
    " \n",
    "```"
   ]
  },
  {
   "cell_type": "code",
   "execution_count": 69,
   "metadata": {},
   "outputs": [
    {
     "name": "stdout",
     "output_type": "stream",
     "text": [
      "Hola mundo\n",
      "Hola mundo\n",
      "Hola mundo\n",
      "Hola mundo\n",
      "Hola mundo\n",
      "continua\n"
     ]
    }
   ],
   "source": [
    "# Ejemplo\n",
    "continuar = 1\n",
    "cont = 0\n",
    "while(True):\n",
    "    cont+=1\n",
    "    if cont > 5:\n",
    "        break\n",
    "    continuar = int(input(\"Introduce 1 o 0 \"))\n",
    "    print(\"Hola mundo\")\n",
    "else:\n",
    "    print(\"Fin del ciclo\")\n",
    "print(\"continua\")"
   ]
  },
  {
   "cell_type": "code",
   "execution_count": 70,
   "metadata": {},
   "outputs": [
    {
     "name": "stdout",
     "output_type": "stream",
     "text": [
      "Hola mundo\n",
      "Hola mundo\n",
      "Hola mundo\n",
      "Hola mundo\n",
      "Hola mundo\n",
      "Hola mundo\n"
     ]
    }
   ],
   "source": [
    "continuar = \"y\"\n",
    "while(continuar == \"y\"):\n",
    "    continuar = input(\"Quieres continuar y/n:\")\n",
    "    print(\"Hola mundo\")"
   ]
  },
  {
   "cell_type": "code",
   "execution_count": 71,
   "metadata": {},
   "outputs": [
    {
     "name": "stdout",
     "output_type": "stream",
     "text": [
      "Hola mundo\n",
      "Hola mundo\n",
      "Hola mundo\n",
      "Hola mundo\n",
      "Hola mundo\n",
      "Hola mundo\n",
      "Hola mundo\n",
      "Hola mundo\n",
      "Hola mundo\n",
      "Hola mundo\n"
     ]
    }
   ],
   "source": [
    "cont = 0\n",
    "while(cont<10):\n",
    "    print(\"Hola mundo\")\n",
    "    cont+=1"
   ]
  },
  {
   "cell_type": "markdown",
   "metadata": {},
   "source": [
    "## Do while\n",
    "Se usa cuando el problema a resolver requiere que se ejecute por lo menos una vez el ciclo. Se compone por una condicional cuya expresión se evalúa después de ejecutar el bloque de instrucciones.  \n",
    "\n",
    "Para crear un bucle do while en Python, necesitas modificar el bucle while un con el propósito de obtener un comportamiento similar al de los bucles do while en otros lenguajes.\n",
    "\n",
    "```python\n",
    " while(True):\n",
    "    instrucciones\n",
    "    if condicion:\n",
    "        break\n",
    "```\n",
    "\n",
    "```java\n",
    "do{\n",
    "    // instrucciones\n",
    "}while(condicion);\n",
    "```\n"
   ]
  },
  {
   "cell_type": "code",
   "execution_count": 73,
   "metadata": {},
   "outputs": [
    {
     "name": "stdout",
     "output_type": "stream",
     "text": [
      "Palabra secreta: incorrecta\n",
      "Palabra secreta: incorrecta\n",
      "Palabra secreta: incorrecta\n",
      "Palabra secreta: incorrecta\n",
      "Palabra secreta: incorrecta\n",
      "Palabra secreta: incorrecta\n",
      "Palabra secreta: incorrecta\n",
      "Palabra secreta: incorrecta\n",
      "Palabra secreta: correcta\n"
     ]
    }
   ],
   "source": [
    "# Ejemplo\n",
    "palabra_secreta = \"python\"\n",
    "while(True):\n",
    "    dame_palabra = input(\"Ingresa la palabra secreta: \")\n",
    "    if dame_palabra == palabra_secreta:\n",
    "        break\n",
    "    print(\"Palabra secreta: incorrecta\")\n",
    "print(\"Palabra secreta: correcta\")"
   ]
  },
  {
   "cell_type": "code",
   "execution_count": 75,
   "metadata": {},
   "outputs": [
    {
     "name": "stdout",
     "output_type": "stream",
     "text": [
      "1.- opción 1\n",
      "2.- opción 2\n",
      "3.- opción 3\n",
      "Error\n",
      "1.- opción 1\n",
      "2.- opción 2\n",
      "3.- opción 3\n",
      "Error\n",
      "1.- opción 1\n",
      "2.- opción 2\n",
      "3.- opción 3\n"
     ]
    },
    {
     "ename": "ValueError",
     "evalue": "invalid literal for int() with base 10: 'f'",
     "output_type": "error",
     "traceback": [
      "\u001b[1;31m---------------------------------------------------------------------------\u001b[0m",
      "\u001b[1;31mValueError\u001b[0m                                Traceback (most recent call last)",
      "\u001b[1;32me:\\Dev\\EDC\\PC-10423\\3_estructuras_de_control\\bucle.ipynb Cell 19\u001b[0m in \u001b[0;36m<cell line: 2>\u001b[1;34m()\u001b[0m\n\u001b[0;32m      <a href='vscode-notebook-cell:/e%3A/Dev/EDC/PC-10423/3_estructuras_de_control/bucle.ipynb#X14sZmlsZQ%3D%3D?line=3'>4</a>\u001b[0m \u001b[39mprint\u001b[39m(\u001b[39m\"\u001b[39m\u001b[39m2.- opción 2\u001b[39m\u001b[39m\"\u001b[39m)\n\u001b[0;32m      <a href='vscode-notebook-cell:/e%3A/Dev/EDC/PC-10423/3_estructuras_de_control/bucle.ipynb#X14sZmlsZQ%3D%3D?line=4'>5</a>\u001b[0m \u001b[39mprint\u001b[39m(\u001b[39m\"\u001b[39m\u001b[39m3.- opción 3\u001b[39m\u001b[39m\"\u001b[39m)\n\u001b[1;32m----> <a href='vscode-notebook-cell:/e%3A/Dev/EDC/PC-10423/3_estructuras_de_control/bucle.ipynb#X14sZmlsZQ%3D%3D?line=5'>6</a>\u001b[0m opt \u001b[39m=\u001b[39m \u001b[39mint\u001b[39;49m(\u001b[39minput\u001b[39;49m(\u001b[39m\"\u001b[39;49m\u001b[39mIngresa una opción: \u001b[39;49m\u001b[39m\"\u001b[39;49m))\n\u001b[0;32m      <a href='vscode-notebook-cell:/e%3A/Dev/EDC/PC-10423/3_estructuras_de_control/bucle.ipynb#X14sZmlsZQ%3D%3D?line=6'>7</a>\u001b[0m \u001b[39mif\u001b[39;00m \u001b[39m0\u001b[39m \u001b[39m<\u001b[39m opt \u001b[39mand\u001b[39;00m opt \u001b[39m<\u001b[39m \u001b[39m4\u001b[39m:\n\u001b[0;32m      <a href='vscode-notebook-cell:/e%3A/Dev/EDC/PC-10423/3_estructuras_de_control/bucle.ipynb#X14sZmlsZQ%3D%3D?line=7'>8</a>\u001b[0m     \u001b[39mbreak\u001b[39;00m\n",
      "\u001b[1;31mValueError\u001b[0m: invalid literal for int() with base 10: 'f'"
     ]
    }
   ],
   "source": [
    "# Ejemplo menú\n",
    "while(True):\n",
    "    print(\"1.- opción 1\")\n",
    "    print(\"2.- opción 2\")\n",
    "    print(\"3.- opción 3\")\n",
    "    opt = int(input(\"Ingresa una opción: \"))\n",
    "    if 0 < opt and opt < 4:\n",
    "        break\n",
    "    else:\n",
    "        print(\"Error\")\n",
    "\n",
    "print(f\"elegiste la opción: {opt}\")\n",
    "    "
   ]
  },
  {
   "cell_type": "code",
   "execution_count": 77,
   "metadata": {},
   "outputs": [
    {
     "name": "stdout",
     "output_type": "stream",
     "text": [
      "Tradicional\n",
      "Alfonso Gzl Zemp\n",
      "Otra forma\n",
      "AlfonsoGzlZemp\n",
      "con formato o inyección\n",
      "Dolore deserunt nisi reprehenderit duis Alfonso  cillum adipisicing consequat sint consectetur est amet et irure tempor. Tempor voluptate velit velit id consequat do. Adipisicing Lorem consectetur ullamco ex incididunt ipsum amet commodo cillum exercitation labore qui. Incididunt tempor do proident consequat velit. Mollit est non duis irure. Tempor aliqua cillum sunt ad eu esse mollit proident. Aliqua duis minim cillum laborum deserunt.\n"
     ]
    }
   ],
   "source": [
    "nombre = \"Alfonso\"\n",
    "ap1 = \"Gzl\"\n",
    "ap2 = \"Zemp\"\n",
    "print(\"Tradicional\")\n",
    "print(nombre,ap1,ap2)\n",
    "print(\"Otra forma\")\n",
    "print(nombre+ap1+ap2)\n",
    "print(\"con formato o inyección\")\n",
    "print(f\"Dolore deserunt nisi reprehenderit duis {nombre}  cillum adipisicing consequat sint consectetur est amet et irure tempor. Tempor voluptate velit velit id consequat do. Adipisicing Lorem consectetur ullamco ex incididunt ipsum amet commodo cillum exercitation labore qui. Incididunt tempor do proident consequat velit. Mollit est non duis irure. Tempor aliqua cillum sunt ad eu esse mollit proident. Aliqua duis minim cillum laborum deserunt.\")"
   ]
  },
  {
   "cell_type": "code",
   "execution_count": 85,
   "metadata": {},
   "outputs": [
    {
     "name": "stdout",
     "output_type": "stream",
     "text": [
      "Respeta saltos y tab\n",
      "      hola Alfonso False\n",
      "      hola\n",
      "      \n"
     ]
    }
   ],
   "source": [
    "print(f'''Respeta saltos y tab\n",
    "      hola {nombre} {False and (5<2)}\n",
    "      hola\n",
    "      ''')"
   ]
  },
  {
   "cell_type": "code",
   "execution_count": 87,
   "metadata": {},
   "outputs": [],
   "source": [
    "continuar = False\n",
    "if(continuar and int(input(\"Saludame\"))):\n",
    "    print(\"saludo\")\n"
   ]
  },
  {
   "cell_type": "code",
   "execution_count": 89,
   "metadata": {},
   "outputs": [
    {
     "name": "stdout",
     "output_type": "stream",
     "text": [
      "saludo\n"
     ]
    }
   ],
   "source": [
    "continuar = False\n",
    "if(continuar or int(input(\"Saludame\"))):\n",
    "    print(\"saludo\")"
   ]
  },
  {
   "cell_type": "code",
   "execution_count": null,
   "metadata": {},
   "outputs": [],
   "source": []
  }
 ],
 "metadata": {
  "kernelspec": {
   "display_name": "Python 3.10.4 64-bit",
   "language": "python",
   "name": "python3"
  },
  "language_info": {
   "codemirror_mode": {
    "name": "ipython",
    "version": 3
   },
   "file_extension": ".py",
   "mimetype": "text/x-python",
   "name": "python",
   "nbconvert_exporter": "python",
   "pygments_lexer": "ipython3",
   "version": "3.10.11"
  },
  "orig_nbformat": 4,
  "vscode": {
   "interpreter": {
    "hash": "9524c4952dd211fec7df7c73b3afac2dbc89a267f70352ce6257a0999e7cce99"
   }
  }
 },
 "nbformat": 4,
 "nbformat_minor": 2
}
