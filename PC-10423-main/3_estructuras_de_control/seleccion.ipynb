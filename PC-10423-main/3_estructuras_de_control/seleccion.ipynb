{
 "cells": [
  {
   "cell_type": "markdown",
   "metadata": {},
   "source": [
    "# Estructuras de control condicionales\n",
    "Es la ejecución condicional de una instrucción o conjunto de instrucciones de acuerdo al valor que adopte una expresión booleana. Su implementación se logra con las denominadas Estructuras de Control Condicionales."
   ]
  },
  {
   "cell_type": "markdown",
   "metadata": {},
   "source": [
    "## Simples\n",
    "Ejecuta un conjunto de líneas de código si es cierta una expresión booleana.\n",
    "```Python\n",
    "if(condicion):\n",
    "    instrucciones\n",
    "```"
   ]
  },
  {
   "cell_type": "code",
   "execution_count": 20,
   "metadata": {},
   "outputs": [
    {
     "name": "stdout",
     "output_type": "stream",
     "text": [
      "instrucciones 1....\n",
      "instrucciones 2....\n",
      "instrucciones 3....\n",
      "instrucciones 4....\n",
      "instrucciones 5....\n",
      "¡Adios mundo!\n"
     ]
    },
    {
     "data": {
      "text/plain": [
       "0"
      ]
     },
     "execution_count": 20,
     "metadata": {},
     "output_type": "execute_result"
    }
   ],
   "source": [
    "# Ejemplo\n",
    "print(\"instrucciones 1....\")\n",
    "print(\"instrucciones 2....\")\n",
    "print(\"instrucciones 3....\")\n",
    "binario = int(input(\"Ingresa 1 o 0\"))\n",
    "if(binario):\n",
    "    print(\"¡Hola mundo desde if 1\")\n",
    "    print(\"¡Hola mundo desde if 2\")\n",
    "    print(\"¡Hola mundo desde if 3\")\n",
    "print(\"instrucciones 4....\")\n",
    "print(\"instrucciones 5....\")\n",
    "print(\"¡Adios mundo!\")\n",
    "binario"
   ]
  },
  {
   "cell_type": "code",
   "execution_count": null,
   "metadata": {},
   "outputs": [],
   "source": []
  },
  {
   "cell_type": "code",
   "execution_count": 21,
   "metadata": {},
   "outputs": [
    {
     "name": "stdout",
     "output_type": "stream",
     "text": [
      "Hola mundo\n",
      "Hola mundo\n",
      "Hola mundo\n",
      "Hola mundo\n",
      "Hola mundo\n"
     ]
    }
   ],
   "source": [
    "if(True):\n",
    "    print(\"Hola mundo\")\n",
    "    if(True):\n",
    "        print(\"Hola mundo\")\n",
    "        if(True):\n",
    "            print(\"Hola mundo\")\n",
    "            if(True):\n",
    "                print(\"Hola mundo\")\n",
    "                if(True):\n",
    "                    print(\"Hola mundo\")"
   ]
  },
  {
   "cell_type": "code",
   "execution_count": null,
   "metadata": {},
   "outputs": [],
   "source": []
  },
  {
   "cell_type": "code",
   "execution_count": 22,
   "metadata": {},
   "outputs": [
    {
     "name": "stdout",
     "output_type": "stream",
     "text": [
      "¡Hola mundo!\n",
      "¡Hola mundo!\n",
      "¡Hola mundo!\n",
      "¡Hola mundo!\n",
      "¡Hola mundo!\n",
      "¡Adios mundo!\n"
     ]
    }
   ],
   "source": [
    "# Ejemplo con operador relacional\n",
    "print(\"¡Hola mundo!\")\n",
    "print(\"¡Hola mundo!\")\n",
    "print(\"¡Hola mundo!\")\n",
    "pregunta = input(\"¿Quieres pasar por if? y/n\")\n",
    "if(pregunta == \"y\"): # operador relacional\n",
    "    print(\"¡Hola mundo desde if\")\n",
    "    print(\"¡Hola mundo desde if\")\n",
    "    print(\"¡Hola mundo desde if\")\n",
    "print(\"¡Hola mundo!\")\n",
    "print(\"¡Hola mundo!\")\n",
    "print(\"¡Adios mundo!\")\n",
    "    "
   ]
  },
  {
   "cell_type": "code",
   "execution_count": 27,
   "metadata": {},
   "outputs": [
    {
     "name": "stdout",
     "output_type": "stream",
     "text": [
      "¡Hola mundo!\n",
      "¡Hola mundo!\n",
      "¡Hola mundo!\n",
      "¡Hola mundo!\n",
      "¡Hola mundo!\n",
      "¡Adios mundo!\n"
     ]
    }
   ],
   "source": [
    "# Ejemplo con operador relacional\n",
    "print(\"¡Hola mundo!\")\n",
    "print(\"¡Hola mundo!\")\n",
    "print(\"¡Hola mundo!\")\n",
    "pregunta = input(\"¿Quieres pasar por if? y/n\")\n",
    "pregunta2= input(\"¿Estas seguro? y/n\")\n",
    "if(pregunta == \"y\" and pregunta2 == \"y\"): # operador relacional\n",
    "    print(\"¡Hola mundo desde if\")\n",
    "    print(\"¡Hola mundo desde if\")\n",
    "    print(\"¡Hola mundo desde if\")\n",
    "print(\"¡Hola mundo!\")\n",
    "print(\"¡Hola mundo!\")\n",
    "print(\"¡Adios mundo!\")"
   ]
  },
  {
   "cell_type": "markdown",
   "metadata": {},
   "source": [
    "## Bicondicional\n",
    "También podemos incorporar un segundo conjunto de instrucciones cuya ejecución se produzca cuando la expresión booleana resulte falsa. Para ello se usa la instrucción else:\n",
    "```python\n",
    "if(condicion):\n",
    "    instrucciones\n",
    "else:\n",
    "    instruccines\n",
    "```"
   ]
  },
  {
   "cell_type": "code",
   "execution_count": 30,
   "metadata": {},
   "outputs": [
    {
     "name": "stdout",
     "output_type": "stream",
     "text": [
      "automovil: en marcha\n",
      "automovil: en marcha\n",
      "automovil: en marcha\n",
      "automovil: en marcha\n",
      "automovil: detenido\n",
      "termina\n"
     ]
    }
   ],
   "source": [
    "# Ejemplo\n",
    "print(\"automovil: en marcha\")\n",
    "print(\"automovil: en marcha\")\n",
    "print(\"automovil: en marcha\")\n",
    "print(\"automovil: en marcha\")\n",
    "semaforo = input(\"Semaforo esta en verde y/n\")\n",
    "if(semaforo == \"y\"):\n",
    "    print(\"automovil: continua...\")\n",
    "else:\n",
    "    print(\"automovil: detenido\")\n",
    "print(\"termina\")"
   ]
  },
  {
   "cell_type": "markdown",
   "metadata": {},
   "source": [
    "## Múltiple\n",
    "Es común que querramos contar con más de dos puntos de salida de nuestra Estructura de Control. Para ello, se intercala la instrucción elif -abreviatura de else if- que funciona de modo similar a else pero evalúa también una expresión booleana como lo hace if:\n",
    "```Python\n",
    "if(condicion):\n",
    "    instrucciones\n",
    "elif(condicion2):\n",
    "    instrucciones\n",
    ".\n",
    ".\n",
    "elif(condicionN):\n",
    "    instrucciones\n",
    "else:\n",
    "    instrucciones\n",
    "```"
   ]
  },
  {
   "cell_type": "code",
   "execution_count": 35,
   "metadata": {},
   "outputs": [
    {
     "name": "stdout",
     "output_type": "stream",
     "text": [
      "Lunes\n"
     ]
    }
   ],
   "source": [
    "dia = int(input(\"Ingresa un número del 1 al 7\"))\n",
    "if(dia==1):\n",
    "    print(\"Lunes\")\n",
    "elif(dia==2):\n",
    "    print(\"Martes\")\n",
    "elif(dia==3):\n",
    "    print(\"Miercoles\")\n",
    "elif(dia==4):\n",
    "    print(\"Jueves\")\n",
    "elif(dia==5):\n",
    "    print(\"Viernes\")\n",
    "elif(dia==6):\n",
    "    print(\"Sábadp\")\n",
    "elif(dia==7):\n",
    "    print(\"Domingo\")\n",
    "else:\n",
    "    print(\"Error\")"
   ]
  },
  {
   "cell_type": "code",
   "execution_count": 6,
   "metadata": {},
   "outputs": [
    {
     "name": "stdout",
     "output_type": "stream",
     "text": [
      "Lunes\n"
     ]
    }
   ],
   "source": [
    "dia = input(\"Ingresa un número del 1 al 7\")\n",
    "\n",
    "match dia:\n",
    "    case \"1\":\n",
    "        print(\"Lunes\")\n",
    "    case \"2\":\n",
    "        print(\"Martes\")\n",
    "    case \"3\":\n",
    "        print(\"Miercoles\")\n",
    "    case \"4\":\n",
    "        print(\"Jueves\")\n",
    "    case \"5\":\n",
    "        print(\"Viernes\")\n",
    "    case \"6\":\n",
    "        print(\"Sábadp\")\n",
    "    case \"7\":\n",
    "        print(\"Domingo\")\n",
    "    case _:\n",
    "        print(\"Error xD\")\n",
    "        "
   ]
  },
  {
   "cell_type": "markdown",
   "metadata": {},
   "source": []
  }
 ],
 "metadata": {
  "kernelspec": {
   "display_name": "Python 3.10.4 64-bit",
   "language": "python",
   "name": "python3"
  },
  "language_info": {
   "codemirror_mode": {
    "name": "ipython",
    "version": 3
   },
   "file_extension": ".py",
   "mimetype": "text/x-python",
   "name": "python",
   "nbconvert_exporter": "python",
   "pygments_lexer": "ipython3",
   "version": "3.10.11"
  },
  "orig_nbformat": 4,
  "vscode": {
   "interpreter": {
    "hash": "9524c4952dd211fec7df7c73b3afac2dbc89a267f70352ce6257a0999e7cce99"
   }
  }
 },
 "nbformat": 4,
 "nbformat_minor": 2
}
