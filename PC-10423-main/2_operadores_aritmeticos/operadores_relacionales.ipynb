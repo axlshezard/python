{
 "cells": [
  {
   "cell_type": "markdown",
   "metadata": {},
   "source": [
    "# Operadores relacionales\n",
    "Los operadores relacionales, o también llamados comparison operators nos permiten saber la relación existente entre dos variables. Se usan para saber si por ejemplo un número es mayor o menor que otro. Dado que estos operadores indican si se cumple o no una operación, el valor que devuelven es True o False. Veamos un ejemplo con x=2 e y=3\n",
    "<center>\n",
    "\n",
    "|Operador|Nombre|Ejemplo|\n",
    "|:-:|:-:|:-:|\n",
    "|==|Igual|x == y = False|\n",
    "|!=|Distinto que|x != y = True|\n",
    "|>|Mayor que|x > y = False|\n",
    "|<|Menor que|x < y = True|\n",
    "|>=|Mayor o igual que|x >= y = False|\n",
    "|<=|Menor o igual que|x <= y = True|"
   ]
  },
  {
   "cell_type": "code",
   "execution_count": 3,
   "metadata": {},
   "outputs": [
    {
     "name": "stdout",
     "output_type": "stream",
     "text": [
      "Operadores Relacionales\n",
      "x==y = False\n",
      "x!=y = True\n",
      "x>y  = False\n",
      "x<y  = True\n",
      "x>=y = False\n",
      "x<=y = True\n"
     ]
    }
   ],
   "source": [
    "x=2; y=3\n",
    "print(\"Operadores Relacionales\")\n",
    "print(\"x==y =\", x==y) # False\n",
    "print(\"x!=y =\", x!=y) # True\n",
    "print(\"x>y  =\", x>y)  # False\n",
    "print(\"x<y  =\", x<y)  # True\n",
    "print(\"x>=y =\", x>=y) # False\n",
    "print(\"x<=y =\", x<=y) # True"
   ]
  },
  {
   "cell_type": "markdown",
   "metadata": {},
   "source": [
    "#### Operador ==\n",
    "El operador == permite comparar si las variables introducidas a su izquierda y derecha son iguales. "
   ]
  },
  {
   "cell_type": "code",
   "execution_count": 11,
   "metadata": {},
   "outputs": [
    {
     "name": "stdout",
     "output_type": "stream",
     "text": [
      "True\n",
      "False\n",
      "True\n",
      "True\n",
      "True\n",
      "False\n",
      "False\n",
      "True\n"
     ]
    }
   ],
   "source": [
    "print(4==4)          \n",
    "print(4==5)          \n",
    "print(4==4.0)        \n",
    "print(0==False)      \n",
    "print(\"a6z\"==\"a6z\")  \n",
    "print(\"a6z\"==\"a6zw\") \n",
    "print(2 == \"2\")        \n",
    "print([1, 2, 3] == [1, 2, 3])"
   ]
  },
  {
   "cell_type": "code",
   "execution_count": 17,
   "metadata": {},
   "outputs": [
    {
     "name": "stdout",
     "output_type": "stream",
     "text": [
      "False\n",
      "False\n",
      "True\n",
      "False\n"
     ]
    },
    {
     "ename": "TypeError",
     "evalue": "'>' not supported between instances of 'str' and 'int'",
     "output_type": "error",
     "traceback": [
      "\u001b[1;31m---------------------------------------------------------------------------\u001b[0m",
      "\u001b[1;31mTypeError\u001b[0m                                 Traceback (most recent call last)",
      "\u001b[1;32me:\\Dev\\EDC\\PC-10423\\2_operadores_aritmeticos\\operadores_relacionales.ipynb Cell 5\u001b[0m in \u001b[0;36m<cell line: 8>\u001b[1;34m()\u001b[0m\n\u001b[0;32m      <a href='vscode-notebook-cell:/e%3A/Dev/EDC/PC-10423/2_operadores_aritmeticos/operadores_relacionales.ipynb#X21sZmlsZQ%3D%3D?line=4'>5</a>\u001b[0m \u001b[39mprint\u001b[39m(\u001b[39m\"\u001b[39m\u001b[39m1\u001b[39m\u001b[39m\"\u001b[39m \u001b[39m==\u001b[39m \u001b[39m0\u001b[39m)\n\u001b[0;32m      <a href='vscode-notebook-cell:/e%3A/Dev/EDC/PC-10423/2_operadores_aritmeticos/operadores_relacionales.ipynb#X21sZmlsZQ%3D%3D?line=6'>7</a>\u001b[0m \u001b[39m# tiene que comparar el mismo tipo o clase de variable\u001b[39;00m\n\u001b[1;32m----> <a href='vscode-notebook-cell:/e%3A/Dev/EDC/PC-10423/2_operadores_aritmeticos/operadores_relacionales.ipynb#X21sZmlsZQ%3D%3D?line=7'>8</a>\u001b[0m \u001b[39mprint\u001b[39m(\u001b[39m\"\u001b[39;49m\u001b[39m1\u001b[39;49m\u001b[39m\"\u001b[39;49m \u001b[39m>\u001b[39;49m \u001b[39m1\u001b[39;49m)\n\u001b[0;32m      <a href='vscode-notebook-cell:/e%3A/Dev/EDC/PC-10423/2_operadores_aritmeticos/operadores_relacionales.ipynb#X21sZmlsZQ%3D%3D?line=8'>9</a>\u001b[0m \u001b[39mprint\u001b[39m(\u001b[39m\"\u001b[39m\u001b[39m1\u001b[39m\u001b[39m\"\u001b[39m \u001b[39m<\u001b[39m \u001b[39m1\u001b[39m)\n",
      "\u001b[1;31mTypeError\u001b[0m: '>' not supported between instances of 'str' and 'int'"
     ]
    }
   ],
   "source": [
    "print(\"A\" == \"a\")\n",
    "print(\"A\" > \"a\")\n",
    "print(\"A\" < \"a\")\n",
    "\n",
    "print(\"1\" == 0)\n",
    "\n",
    "# tiene que comparar el mismo tipo o clase de variable\n",
    "print(\"1\" > 1)\n",
    "print(\"1\" < 1)"
   ]
  },
  {
   "cell_type": "code",
   "execution_count": 26,
   "metadata": {},
   "outputs": [
    {
     "name": "stdout",
     "output_type": "stream",
     "text": [
      "False\n",
      "False\n",
      "True\n",
      "True\n"
     ]
    }
   ],
   "source": [
    "a = \"alfonso\"\n",
    "b = \"juan\"\n",
    "c = \"carlos\"\n",
    "d = \"ana\"\n",
    "\n",
    "'''\n",
    "<\n",
    "alfonso\n",
    "ana\n",
    "carlos\n",
    "juan\n",
    "\n",
    "'''\n",
    "print((a>b))\n",
    "print((a>c))\n",
    "\n",
    "print(\"@\"<\"a\")\n",
    "print(\"A\"<\"a\")\n",
    "\n"
   ]
  },
  {
   "cell_type": "markdown",
   "metadata": {},
   "source": [
    "#### Operador !=\n",
    "El operador != devuelve False si los elementos a comparar son iguales y True si estos son distintos."
   ]
  },
  {
   "cell_type": "code",
   "execution_count": null,
   "metadata": {},
   "outputs": [],
   "source": [
    "print(4!=4)          \n",
    "print(4!=5)          \n",
    "print(4!=4.0)        \n",
    "print(0!=False)      \n",
    "print(\"a6z\"!=\"a6z\")  \n",
    "print(\"a6z\"!=\"a6zw\") \n",
    "print(2!=\"2\")        \n",
    "print([1, 2, 3] != [1, 2, 3])"
   ]
  },
  {
   "cell_type": "markdown",
   "metadata": {},
   "source": [
    "#### Operador >\n",
    "El operador > devuelve True si el primer valor es mayor que el segundo y False de lo contrario."
   ]
  },
  {
   "cell_type": "code",
   "execution_count": 27,
   "metadata": {},
   "outputs": [
    {
     "name": "stdout",
     "output_type": "stream",
     "text": [
      "True\n",
      "False\n",
      "============================\n",
      "True\n",
      "True\n"
     ]
    }
   ],
   "source": [
    "print(5>3)\n",
    "print(5>5)\n",
    "# Algo bastante curioso, es como Python trata al tipo booleano. \n",
    "# Por ejemplo, podemos ver como True es igual a 1, por lo que podemos comprar el \n",
    "# tipo True como si de un número se tratase.\n",
    "print(\"============================\")\n",
    "print(True==1)     # True\n",
    "print(True>0.999)  # True"
   ]
  },
  {
   "cell_type": "markdown",
   "metadata": {},
   "source": [
    "#### Operador <\n",
    "El operador < devuelve True si el primer elemento es mayor que el segundo. Es totalmente válido aplicar operadores relacionales como < sobre cadenas de texto, pero el comportamiento es un tanto difícil de ver a simple vista. Por ejemplo abc es menor que abd y A es menor que a.\n"
   ]
  },
  {
   "cell_type": "code",
   "execution_count": null,
   "metadata": {},
   "outputs": [],
   "source": [
    "print(\"abc\" < \"abd\") # True\n",
    "print(\"A\"<\"a\")       # True\n",
    "# Para el caso de A y a la explicación es muy sencilla, ya que Python lo que en realidad está\n",
    "# comparando es el valor entero Unicode que representa tal caracter. \n",
    "# La función ord() nos da ese valor. Por lo tanto cuando hacemos \"A\"<\"a\" lo que en realidad\n",
    "# hacemos es comprar dos números.\n",
    "\n",
    "print(ord('A')) # 65\n",
    "print(ord('a')) # 97"
   ]
  },
  {
   "cell_type": "markdown",
   "metadata": {},
   "source": [
    "#### Operador >=\n",
    "Similar a los anteriores, >= permite comparar si el primer elemento es mayor o igual que el segundo, devolviendo True en el caso de ser cierto.\n"
   ]
  },
  {
   "cell_type": "code",
   "execution_count": 28,
   "metadata": {},
   "outputs": [
    {
     "name": "stdout",
     "output_type": "stream",
     "text": [
      "True\n",
      "False\n"
     ]
    }
   ],
   "source": [
    "print(3>=3)\n",
    "print([3,4] >= [3,5]) "
   ]
  },
  {
   "cell_type": "markdown",
   "metadata": {},
   "source": [
    "#### Operdor <=\n",
    "De la misma manera, <= devuelve True si el primer elemento es menor o igual que el segundo. Nos podemos encontrar con cosas interesantes debido a la precisión numérica existente al representar valores."
   ]
  },
  {
   "cell_type": "code",
   "execution_count": 29,
   "metadata": {},
   "outputs": [
    {
     "name": "stdout",
     "output_type": "stream",
     "text": [
      "True\n"
     ]
    }
   ],
   "source": [
    "print(3<=2.99999999999999999)"
   ]
  },
  {
   "cell_type": "code",
   "execution_count": null,
   "metadata": {},
   "outputs": [],
   "source": []
  }
 ],
 "metadata": {
  "kernelspec": {
   "display_name": "Python 3.10.4 64-bit",
   "language": "python",
   "name": "python3"
  },
  "language_info": {
   "codemirror_mode": {
    "name": "ipython",
    "version": 3
   },
   "file_extension": ".py",
   "mimetype": "text/x-python",
   "name": "python",
   "nbconvert_exporter": "python",
   "pygments_lexer": "ipython3",
   "version": "3.10.11"
  },
  "orig_nbformat": 4,
  "vscode": {
   "interpreter": {
    "hash": "9524c4952dd211fec7df7c73b3afac2dbc89a267f70352ce6257a0999e7cce99"
   }
  }
 },
 "nbformat": 4,
 "nbformat_minor": 2
}
