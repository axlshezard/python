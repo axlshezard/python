{
 "cells": [
  {
   "cell_type": "markdown",
   "metadata": {},
   "source": [
    "# Operadores de asignación"
   ]
  },
  {
   "cell_type": "markdown",
   "metadata": {},
   "source": [
    "Anteriormente hemos visto los operadores aritméticos, que usaban dos números para calcular una operación aritmética (como suma o resta) y devolver su resultado. En este caso, los operadores de asignación nos permiten realizar una operación y almacenar su resultado en la variable inicial. Podemos ver como realmente el único operador nuevo es el <span style=\"color:#66D9EF\">=</span>. El resto son abreviaciones de otros operadores que habíamos visto con anterioridad. Ponemos un ejemplo con <span style=\"color:#66D9EF\">x=7</span>\n",
    "<center>\n",
    "\n",
    "|Operador|Ejemplo|Equivalente|\n",
    "|:-:|:-:|:-:|\n",
    "|=|x=7|x=7|\n",
    "|+=|x+=2|x=x+2 = 9|\n",
    "|-=|x-=2|x=x-2 = 5|\n",
    "|*=|x*=2|x=x*2 = 14|\n",
    "|/=|x/=2|x=x/2 = 3.5|\n",
    "|%=|x%=2|x=x%2 = 1|\n",
    "|//=|x//=2|x=x//2 = 3|\n",
    "|**=|x**=2|x=x**2 = 49|\n"
   ]
  },
  {
   "cell_type": "code",
   "execution_count": 6,
   "metadata": {},
   "outputs": [
    {
     "name": "stdout",
     "output_type": "stream",
     "text": [
      "Operadores de asignación\n",
      "x+= 9\n",
      "x-= 5\n",
      "x*= 14\n",
      "x/= 3.5\n",
      "x%= 1\n",
      "x//= 3\n",
      "x**= 49\n"
     ]
    }
   ],
   "source": [
    "a=7; b=2\n",
    "print(\"Operadores de asignación\")\n",
    "x=a\n",
    "x+=b\n",
    "print(\"x+=\", x)  # 9\n",
    "x=a; x-=b;  print(\"x-=\", x)  # 5\n",
    "x=a; x*=b;  print(\"x*=\", x)  # 14\n",
    "x=a; x/=b;  print(\"x/=\", x)  # 3.5\n",
    "x=a; x%=b;  print(\"x%=\", x)  # 1\n",
    "x=a; x//=b; print(\"x//=\", x) # 3\n",
    "x=a; x**=b; print(\"x**=\", x) # 49"
   ]
  },
  {
   "cell_type": "code",
   "execution_count": 2,
   "metadata": {},
   "outputs": [],
   "source": [
    "i = 0"
   ]
  },
  {
   "cell_type": "markdown",
   "metadata": {},
   "source": [
    "# Ejemplo contador en java\n",
    "```java\n",
    "for(int i = 0; i>=n; i++){\n",
    "    // código incremerta en uno \n",
    "}\n",
    "for(int i = 0; i>=n; i--{\n",
    "    // código decrementar en uno\n",
    "}\n",
    "```\n",
    "\n",
    "```python\n",
    "for i in range(n):\n",
    "    # instrucciones\n",
    "```\n",
    "\n"
   ]
  },
  {
   "cell_type": "code",
   "execution_count": 10,
   "metadata": {},
   "outputs": [
    {
     "data": {
      "text/plain": [
       "6"
      ]
     },
     "execution_count": 10,
     "metadata": {},
     "output_type": "execute_result"
    }
   ],
   "source": [
    "a = 1\n",
    "a = a + 1\n",
    "a+=1\n",
    "a+=1\n",
    "a+=1\n",
    "a+=1\n",
    "a+=1\n",
    "a"
   ]
  },
  {
   "cell_type": "code",
   "execution_count": 17,
   "metadata": {},
   "outputs": [
    {
     "data": {
      "text/plain": [
       "256"
      ]
     },
     "execution_count": 17,
     "metadata": {},
     "output_type": "execute_result"
    }
   ],
   "source": [
    "a = 2\n",
    "# a^2\n",
    "a = a * 2\n",
    "a*=2\n",
    "a*=2\n",
    "a*=2\n",
    "a*=2\n",
    "a*=2\n",
    "a*=2\n",
    "a*=2\n",
    "\n",
    "a"
   ]
  },
  {
   "cell_type": "code",
   "execution_count": null,
   "metadata": {},
   "outputs": [],
   "source": [
    "a = 2\n",
    "# a^a\n",
    "a*=a\n",
    "a*=a\n",
    "a*=a\n",
    "a*=a\n",
    "a*=a"
   ]
  },
  {
   "cell_type": "markdown",
   "metadata": {},
   "source": [
    "# Cambio de variable o switch"
   ]
  },
  {
   "cell_type": "markdown",
   "metadata": {},
   "source": [
    "### Tradicional"
   ]
  },
  {
   "cell_type": "code",
   "execution_count": 7,
   "metadata": {},
   "outputs": [
    {
     "name": "stdout",
     "output_type": "stream",
     "text": [
      "a = 5\n",
      "b = 7\n",
      "a = 7\n",
      "b = 5\n"
     ]
    }
   ],
   "source": [
    "a = 5\n",
    "b = 7\n",
    "print(\"a =\",a)\n",
    "print(\"b =\",b)\n",
    "# asignar 'a' el valor de b y a 'b' el valor de a\n",
    "\n",
    "aux = a\n",
    "a = b\n",
    "b = aux\n",
    "\n",
    "print(\"a =\",a)\n",
    "print(\"b =\",b)"
   ]
  },
  {
   "cell_type": "markdown",
   "metadata": {},
   "source": [
    "### con python"
   ]
  },
  {
   "cell_type": "code",
   "execution_count": 8,
   "metadata": {},
   "outputs": [
    {
     "name": "stdout",
     "output_type": "stream",
     "text": [
      "a = 5\n",
      "b = 7\n",
      "a = 7\n",
      "b = 5\n"
     ]
    }
   ],
   "source": [
    "a = 5\n",
    "b = 7\n",
    "print(\"a =\",a)\n",
    "print(\"b =\",b)\n",
    "\n",
    "# !cambio de valores\n",
    "a , b = b , a\n",
    "print(\"a =\",a)\n",
    "print(\"b =\",b)"
   ]
  }
 ],
 "metadata": {
  "kernelspec": {
   "display_name": "Python 3.10.4 64-bit",
   "language": "python",
   "name": "python3"
  },
  "language_info": {
   "codemirror_mode": {
    "name": "ipython",
    "version": 3
   },
   "file_extension": ".py",
   "mimetype": "text/x-python",
   "name": "python",
   "nbconvert_exporter": "python",
   "pygments_lexer": "ipython3",
   "version": "3.10.11"
  },
  "orig_nbformat": 4,
  "vscode": {
   "interpreter": {
    "hash": "9524c4952dd211fec7df7c73b3afac2dbc89a267f70352ce6257a0999e7cce99"
   }
  }
 },
 "nbformat": 4,
 "nbformat_minor": 2
}
