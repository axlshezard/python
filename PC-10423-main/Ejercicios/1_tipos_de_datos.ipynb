{
 "cells": [
  {
   "cell_type": "markdown",
   "metadata": {},
   "source": [
    "# Ejercicios de Tipos de Datos Simples"
   ]
  },
  {
   "cell_type": "markdown",
   "metadata": {},
   "source": [
    "### Ejercicio 1\n",
    "Escribir un programa que muestre por pantalla la cadena <span style=\"color:#66D9EF\">¡Hola Mundo!</span>."
   ]
  },
  {
   "cell_type": "code",
   "execution_count": 1,
   "metadata": {},
   "outputs": [
    {
     "name": "stdout",
     "output_type": "stream",
     "text": [
      "Hola, mundo!\n"
     ]
    }
   ],
   "source": [
    "# Solución\n",
    "print(\"Hola, mundo!\")\n",
    "    "
   ]
  },
  {
   "cell_type": "markdown",
   "metadata": {},
   "source": [
    "### Ejercicio 2\n",
    "Escribir un programa que almacene la cadena <span style=\"color:#66D9EF\">¡Hola Mundo!</span> en una variable y luego muestre por pantalla el contenido de la variable"
   ]
  },
  {
   "cell_type": "code",
   "execution_count": 6,
   "metadata": {},
   "outputs": [
    {
     "name": "stdout",
     "output_type": "stream",
     "text": [
      "¡Hola Mundo!\n"
     ]
    }
   ],
   "source": [
    "# Soluciión\n",
    "def main():\n",
    "    # Almacenamos la cadena \"¡Hola Mundo!\" en una variable llamada \"mensaje\".\n",
    "    mensaje = \"¡Hola Mundo!\"\n",
    "\n",
    "    # Mostramos el contenido de la variable \"mensaje\" utilizando la función \"print()\".\n",
    "    print(mensaje)\n",
    "\n",
    "if __name__ == \"__main__\":\n",
    "    main()\n"
   ]
  },
  {
   "cell_type": "markdown",
   "metadata": {},
   "source": [
    "### Ejercicio 3\n",
    "Escribir un programa que pregunte el nombre del usuario en la consola y después de que el usuario lo introduzca muestre por pantalla la cadena <span style=\"color:#66D9EF \">¡Hola \\<nombre\\>!</span>, donde <span style=\"color:#66D9EF\">\\<nombre\\></span> es el nombre que el usuario haya introducido."
   ]
  },
  {
   "cell_type": "code",
   "execution_count": 8,
   "metadata": {},
   "outputs": [
    {
     "name": "stdout",
     "output_type": "stream",
     "text": [
      "¡Hola Juan!\n"
     ]
    }
   ],
   "source": [
    "def main():\n",
    "    # Pedimos al usuario que ingrese su nombre y lo almacenamos en una variable llamada \"nombre\".\n",
    "    nombre = input(\"Por favor, introduce tu nombre: \")\n",
    "\n",
    "    # Creamos una cadena de texto que contiene el mensaje de saludo concatenando las partes.\n",
    "    mensaje = \"¡Hola \" + nombre + \"!\"\n",
    "\n",
    "    # Mostramos el mensaje de saludo utilizando la función \"print()\".\n",
    "    print(mensaje)\n",
    "\n",
    "if __name__ == \"__main__\":\n",
    "    main()\n"
   ]
  },
  {
   "cell_type": "code",
   "execution_count": 7,
   "metadata": {},
   "outputs": [
    {
     "name": "stdout",
     "output_type": "stream",
     "text": [
      "¡Hola Juan!\n"
     ]
    }
   ],
   "source": [
    "# Solución con Formateo de cadena f-string\n",
    "def main():\n",
    "    # Pedimos al usuario que ingrese su nombre y lo almacenamos en una variable llamada \"nombre\".\n",
    "    nombre = input(\"Por favor, introduce tu nombre: \")\n",
    "\n",
    "    # Mostramos un mensaje personalizado con el nombre del usuario utilizando la función \"print()\".\n",
    "    print(f\"¡Hola {nombre}!\")\n",
    "\n",
    "if __name__ == \"__main__\":\n",
    "    main()\n"
   ]
  },
  {
   "cell_type": "markdown",
   "metadata": {},
   "source": [
    "### Ejercicio 4\n",
    "Escribir un programa que muestre por pantalla el resultado de la siguiente operación aritmética:\n",
    "$$ \\left(\\frac{3+2}{2*5}\\right)^2$$"
   ]
  },
  {
   "cell_type": "code",
   "execution_count": 12,
   "metadata": {},
   "outputs": [
    {
     "name": "stdout",
     "output_type": "stream",
     "text": [
      "R= 0.25\n"
     ]
    }
   ],
   "source": [
    "# solución\n",
    "\n",
    "def main():\n",
    "    # Realizamos la operación aritmética y almacenamos el resultado en una variable llamada \"resultado\".\n",
    "    resultado = ((3 + 2) / (2 * 5)) ** 2\n",
    "\n",
    "    # Mostramos el resultado por pantalla utilizando la función \"print()\".\n",
    "    print(f\"R= {resultado}\")\n",
    "\n",
    "if __name__ == \"__main__\":\n",
    "    main()\n"
   ]
  },
  {
   "cell_type": "markdown",
   "metadata": {},
   "source": [
    "### Ejercicio 5\n",
    "Escribir un programa que pregunte al usuario por el número de horas trabajadas y el coste por hora. Después debe mostrar por pantalla la paga que le corresponde."
   ]
  },
  {
   "cell_type": "code",
   "execution_count": 16,
   "metadata": {},
   "outputs": [
    {
     "name": "stdout",
     "output_type": "stream",
     "text": [
      "La paga que le corresponde es: 9.00\n"
     ]
    }
   ],
   "source": [
    "# solución\n",
    "def calcular_paga():\n",
    "        # Pedimos al usuario que ingrese el número de horas trabajadas y el coste por hora, siendo un valor float\n",
    "        # tendria que recibir un valor numerico, de otra manera el programa se detendra.\n",
    "    try:\n",
    "        horas_trabajadas = float(input(\"Ingrese el número de horas trabajadas: \"))\n",
    "        costo_por_hora = float(input(\"Ingrese el coste por hora: \"))\n",
    "\n",
    "        # Calculamos la paga multiplicando el número de horas trabajadas por el coste por hora.\n",
    "        paga = horas_trabajadas * costo_por_hora\n",
    "\n",
    "        # Mostramos por pantalla la paga que le corresponde.\n",
    "        print(f\"La paga que le corresponde es: {paga:.2f}\")\n",
    "    except ValueError:\n",
    "        print(\"Error: Por favor, ingrese un número válido.\")\n",
    "\n",
    "if __name__ == \"__main__\":\n",
    "    calcular_paga()\n",
    "        # try y except para manejar posibles errores de entrada,\n",
    "        # como cuando el usuario ingresa un valor no numérico. "
   ]
  },
  {
   "cell_type": "markdown",
   "metadata": {},
   "source": [
    "### Ejercicio 6\n",
    "Escribir un programa que lea un entero positivo, _n_, introducido por el usuario y después muestre en pantalla la suma de todos los enteros desde 1 hasta _n_ . La suma de los *n* primeros enteros positivos puede ser calculada de la siguiente forma:  \n",
    "$$suma = \\frac{n(n+1)}{2}$$"
   ]
  },
  {
   "cell_type": "code",
   "execution_count": 20,
   "metadata": {},
   "outputs": [
    {
     "name": "stdout",
     "output_type": "stream",
     "text": [
      "La suma de los 4 primeros enteros positivos es: 10.00\n"
     ]
    }
   ],
   "source": [
    "def calcular_suma_enteros():\n",
    "    # Se ingresa un número y se almacena en la variable \"n\".\n",
    "    n = int(input(\"Ingrese un entero positivo: \"))\n",
    "    if n <= 0:\n",
    "        print(\"Error: Por favor, ingrese un entero positivo.\")\n",
    "    else:\n",
    "        # Calculamos la suma de los n primeros enteros positivos utilizando la fórmula.\n",
    "        suma = (n * (n + 1)) / 2\n",
    "        print(f\"La suma de los {n} primeros enteros positivos es: {suma:.2f}\")\n",
    "\n",
    "if __name__ == \"__main__\":\n",
    "    calcular_suma_enteros()\n"
   ]
  },
  {
   "cell_type": "code",
   "execution_count": 21,
   "metadata": {},
   "outputs": [
    {
     "name": "stdout",
     "output_type": "stream",
     "text": [
      "Error: Por favor, ingrese un entero positivo.\n"
     ]
    }
   ],
   "source": [
    "#se puede usar tambien con try\n",
    "\n",
    "def calcular_suma_enteros():\n",
    "    try:\n",
    "        # sw ingresa un entero positivo y lo almacenamos en la variable \"n\".\n",
    "        n = int(input(\"Ingrese un entero positivo: \"))\n",
    "\n",
    "        if n <= 0:\n",
    "            print(\"Error: Por favor, ingrese un entero positivo.\")\n",
    "        else:\n",
    "            # Calculamos la suma de los n primeros enteros positivos utilizando la fórmula.\n",
    "            suma = (n * (n + 1)) / 2\n",
    "\n",
    "            # Mostramos la suma por pantalla.\n",
    "            print(f\"La suma de los {n} primeros enteros positivos es: {suma:.2f}\")\n",
    "\n",
    "    except ValueError:\n",
    "        print(\"Error: Por favor, ingrese un número entero válido.\")\n",
    "\n",
    "if __name__ == \"__main__\":\n",
    "    calcular_suma_enteros()\n"
   ]
  },
  {
   "cell_type": "markdown",
   "metadata": {},
   "source": [
    "### Ejercicio 7\n",
    "Escribir un programa que pida al usuario su peso (en kg) y estatura (en metros), calcule el índice de masa corporal y lo almacene en una variable, y muestre por pantalla la frase Tu índice de masa corporal es <span style=\"color:#66D9EF\">imc</span> donde <span style=\"color:#66D9EF\">imc</span> es el índice de masa corporal calculado redondeado con dos decimales."
   ]
  },
  {
   "cell_type": "code",
   "execution_count": 22,
   "metadata": {},
   "outputs": [
    {
     "name": "stdout",
     "output_type": "stream",
     "text": [
      "Tu índice de masa corporal es 25.66\n"
     ]
    }
   ],
   "source": [
    "# solución\n",
    "def calcular_imc():\n",
    "    # Ingresamos  peso y estatura y los almacenamos en variables.\n",
    "    peso_kg = float(input(\"Ingrese su peso en kg: \"))\n",
    "    estatura_metros = float(input(\"Ingrese su estatura en metros: \"))\n",
    "\n",
    "    # Calculamos el índice de masa corporal (IMC) utilizando la fórmula: IMC = peso / (estatura a la potencia ^2).\n",
    "    imc = peso_kg / (estatura_metros ** 2)\n",
    "\n",
    "    # Redondeamos el resultado del IMC a dos decimales.\n",
    "    imc_redondeado = round(imc, 2)\n",
    "\n",
    "    # Mostramos el resultado por pantalla utilizando la función \"print()\".\n",
    "    print(f\"Tu índice de masa corporal es {imc_redondeado}\")\n",
    "\n",
    "if __name__ == \"__main__\":\n",
    "    calcular_imc()\n"
   ]
  },
  {
   "cell_type": "markdown",
   "metadata": {},
   "source": [
    "### Ejercicio 8\n",
    "Escribir un programa que pida al usuario dos números enteros y muestre por pantalla la <span style=\"color:#66D9EF \">n</span> entre <span style=\"color:#66D9EF \">m</span> da un cociente <span style=\"color:#66D9EF \">c</span> y un resto <span style=\"color:#66D9EF \">r</span> donde <span style=\"color:#66D9EF \">n y m</span> son los números introducidos por el usuario, y <span style=\"color:#66D9EF \">c y r</span> son el cociente y el resto de la división entera respectivamente."
   ]
  },
  {
   "cell_type": "code",
   "execution_count": 24,
   "metadata": {},
   "outputs": [
    {
     "name": "stdout",
     "output_type": "stream",
     "text": [
      "24 entre 2 da un cociente 12 y un resto 0.\n"
     ]
    }
   ],
   "source": [
    "# solución\n",
    "def main():\n",
    "    # Pedimos al usuario que ingrese dos números enteros y los almacenamos en las variables \"n\" y \"m\".\n",
    "    n = int(input(\"Ingrese el primer número entero (n): \"))\n",
    "    m = int(input(\"Ingrese el segundo número entero (m): \"))\n",
    "\n",
    "    # Realizamos la división entera de \"n\" entre \"m\" y almacenamos el cociente y el resto en las variables \"c\" y \"r\".\n",
    "    c = n // m\n",
    "    r = n % m\n",
    "\n",
    "    # Mostramos por pantalla el resultado de la división entera.\n",
    "    print(f\"{n} entre {m} da un cociente {c} y un resto {r}.\")\n",
    "\n",
    "if __name__ == \"__main__\":\n",
    "    main()\n"
   ]
  },
  {
   "cell_type": "markdown",
   "metadata": {},
   "source": [
    "### Ejercicio 9\n",
    "Escribir un programa que pregunte al usuario una cantidad a invertir, el interés anual y el número de años, y muestre por pantalla el capital obtenido en la inversión.\n",
    "\n",
    "#### Formula:\n",
    "$ c = capital inicial $  \n",
    "$ i = interes anual $  \n",
    "$ n = periodos $  \n",
    "$$ m = c(1 + i )^n $$"
   ]
  },
  {
   "cell_type": "code",
   "execution_count": 23,
   "metadata": {},
   "outputs": [
    {
     "name": "stdout",
     "output_type": "stream",
     "text": [
      "17 entre 4 da un cociente 4 y un resto 1.\n"
     ]
    }
   ],
   "source": [
    "# Solución\n",
    "def main():\n",
    "    # Pedimos al usuario que ingrese dos números enteros y los almacenamos en las variables \"n\" y \"m\".\n",
    "    n = int(input(\"Ingrese el primer número entero (n): \"))\n",
    "    m = int(input(\"Ingrese el segundo número entero (m): \"))\n",
    "\n",
    "    # Realizamos la división entera de \"n\" entre \"m\" y almacenamos el cociente y el resto en las variables \"c\" y \"r\".\n",
    "    c = n // m\n",
    "    r = n % m\n",
    "\n",
    "    # Mostramos por pantalla el resultado de la división entera.\n",
    "    print(f\"{n} entre {m} da un cociente {c} y un resto {r}.\")\n",
    "\n",
    "if __name__ == \"__main__\":\n",
    "    main()\n"
   ]
  },
  {
   "cell_type": "code",
   "execution_count": 38,
   "metadata": {},
   "outputs": [
    {
     "name": "stdout",
     "output_type": "stream",
     "text": [
      "El capital obtenido en la inversión es: 204.02\n"
     ]
    }
   ],
   "source": [
    "#Solucion\n",
    "\n",
    "def calcular_capital_inversion():\n",
    "    # Pedimos al usuario que ingrese la cantidad a invertir, el interés anual y el número de años.\n",
    "    cantidad_invertir = float(input(\"Ingrese la cantidad a invertir: \"))\n",
    "    interes_anual = float(input(\"Ingrese el interés anual (%): \"))\n",
    "    numero_anios = int(input(\"Ingrese el número de años de la inversión: \"))\n",
    "\n",
    "    # Convertimos el porcentaje de interés a decimal.\n",
    "    interes_decimal = interes_anual / 100\n",
    "\n",
    "    # Calculamos el capital obtenido utilizando la fórmula: m = c * (1 + i)^n.\n",
    "    capital_obtenido = cantidad_invertir * (1 + interes_decimal) ** numero_anios\n",
    "\n",
    "    # Mostramos por pantalla el capital obtenido.\n",
    "    print(f\"El capital obtenido en la inversión es: {capital_obtenido:.2f}\")\n",
    "\n",
    "calcular_capital_inversion()\n"
   ]
  },
  {
   "cell_type": "markdown",
   "metadata": {},
   "source": [
    "### Ejercicio 10\n",
    "Una juguetería tiene mucho éxito en dos de sus productos: payasos y muñecas. Suele hacer venta por correo y la empresa de logística les cobra por peso de cada paquete así que deben calcular el peso de los payasos y muñecas que saldrán en cada paquete a demanda. Cada payaso pesa 112 g y cada muñeca 75 g. Escribir un programa que lea el número de payasos y muñecas vendidos en el último pedido y calcule el peso total del paquete que será enviado."
   ]
  },
  {
   "cell_type": "code",
   "execution_count": 36,
   "metadata": {},
   "outputs": [
    {
     "name": "stdout",
     "output_type": "stream",
     "text": [
      "El peso total del paquete a enviar es: 636 g\n"
     ]
    }
   ],
   "source": [
    "# Solución\n",
    "def calcular_peso_paquete():\n",
    "    # Ingresamos número de payasos y muñecas\n",
    "    numero_payasos = int(input(\"Ingrese el número de payasos vendidos: \"))\n",
    "    numero_muñecas = int(input(\"Ingrese el número de muñecas vendidas: \"))\n",
    "    \n",
    "    # Definimos el peso de cada payaso y muñeca en gramos.\n",
    "    peso_payasos = 112\n",
    "    peso_muñecas = 75\n",
    "    \n",
    "    # Calculamos el peso total del paquete sumando muñecas y payasos.\n",
    "    peso_total = (numero_payasos * peso_payasos) + (numero_muñecas * peso_muñecas)\n",
    "    \n",
    "    # Mostramos en pantalla el peso total.\n",
    "    print(\"El peso total del paquete a enviar es:\", peso_total, \"g\")\n",
    "\n",
    "# Llamamos a la función para que se ejecute.\n",
    "calcular_peso_paquete()\n"
   ]
  },
  {
   "cell_type": "markdown",
   "metadata": {},
   "source": [
    "### Ejercicio 11\n",
    "Imagina que acabas de abrir una nueva cuenta de ahorros que te ofrece el 4% de interés al año. Estos ahorros se cobran hasta finales de año. Escribir un programa que comience leyendo la cantidad de dinero depositada en la cuenta de ahorros, introducida por el usuario. Después el programa debe calcular y mostrar por pantalla la cantidad de ahorros tras el primer, segundo y tercer años. Redondear cada cantidad a dos decimales."
   ]
  },
  {
   "cell_type": "code",
   "execution_count": 41,
   "metadata": {},
   "outputs": [
    {
     "name": "stdout",
     "output_type": "stream",
     "text": [
      "Ahorro tras el primer año: 208000.0\n",
      "Ahorro tras el segundo año: 216320.0\n",
      "Ahorro tras el tercer año: 224972.8\n"
     ]
    }
   ],
   "source": [
    "# Solución\n",
    "def calcular_ahorros():\n",
    "    # Pedimos al usuario que ingrese la cantidad de dinero depositada en la cuenta de ahorros.\n",
    "    cantidad_depositada = float(input(\"Ingrese la cantidad de dinero depositada en la cuenta de ahorros: \"))\n",
    "\n",
    "    # Definimos el interés anual (4% = 0.04).\n",
    "    interes_anual = 0.04\n",
    "\n",
    "    # Calculamos el ahorro tras el primer año con interés.\n",
    "    ahorro_primer_anio = cantidad_depositada * (1 + interes_anual)\n",
    "\n",
    "    # Calculamos el ahorro tras el segundo año con interés.\n",
    "    ahorro_segundo_anio = ahorro_primer_anio * (1 + interes_anual)\n",
    "\n",
    "    # Calculamos el ahorro tras el tercer año con interés.\n",
    "    ahorro_tercer_anio = ahorro_segundo_anio * (1 + interes_anual)\n",
    "\n",
    "    # Mostramos por pantalla los ahorros tras cada año redondeados a dos decimales.\n",
    "    print(f\"Ahorro tras el primer año: {round(ahorro_primer_anio, 2)}\")\n",
    "    print(f\"Ahorro tras el segundo año: {round(ahorro_segundo_anio, 2)}\")\n",
    "    print(f\"Ahorro tras el tercer año: {round(ahorro_tercer_anio, 2)}\")\n",
    "\n",
    "# Llamamos a la función para que se ejecute.\n",
    "calcular_ahorros()\n"
   ]
  },
  {
   "cell_type": "markdown",
   "metadata": {},
   "source": [
    "### Ejercicio 12\n",
    "Una panadería vende barras de pan a $3.49 cada una. El pan que no es el día tiene un descuento del 60%. Escribir un programa que comience leyendo el número de barras vendidas que no son del día. Después el programa debe mostrar el precio habitual de una barra de pan, el descuento que se le hace por no ser fresca y el coste final total."
   ]
  },
  {
   "cell_type": "code",
   "execution_count": 42,
   "metadata": {},
   "outputs": [
    {
     "name": "stdout",
     "output_type": "stream",
     "text": [
      "Precio habitual de una barra de pan: $3.49\n",
      "Descuento por no ser fresca: 60%\n",
      "Coste final total: $61.42\n"
     ]
    }
   ],
   "source": [
    "# Solución\n",
    "def calcular_coste_final():\n",
    "    # número de barras de pan no frescas vendidas.\n",
    "    barras_no_frescas = int(input(\"Ingrese el número de barras de pan no frescas vendidas: \"))\n",
    "\n",
    "    # Precio  de una barra de pan.\n",
    "    precio_habitual = 3.49\n",
    "\n",
    "    # Descuento por no ser fresca (60%).\n",
    "    descuento = 0.60\n",
    "\n",
    "    # Calculamos el coste total de las barras no frescas con descuento.\n",
    "    coste_total = barras_no_frescas * precio_habitual * (1 - descuento)\n",
    "\n",
    "    # Mostramos por pantalla el precio habitual, el descuento y el coste final total.\n",
    "    print(f\"Precio habitual de una barra de pan: ${precio_habitual:.2f}\")\n",
    "    print(f\"Descuento por no ser fresca: {descuento * 100:.0f}%\")\n",
    "    print(f\"Coste final total: ${coste_total:.2f}\")\n",
    "\n",
    "# Llamamos a la función para que se ejecute.\n",
    "calcular_coste_final()\n"
   ]
  }
 ],
 "metadata": {
  "kernelspec": {
   "display_name": "Python 3.11.4 64-bit",
   "language": "python",
   "name": "python3"
  },
  "language_info": {
   "codemirror_mode": {
    "name": "ipython",
    "version": 3
   },
   "file_extension": ".py",
   "mimetype": "text/x-python",
   "name": "python",
   "nbconvert_exporter": "python",
   "pygments_lexer": "ipython3",
   "version": "3.11.4"
  },
  "orig_nbformat": 4,
  "vscode": {
   "interpreter": {
    "hash": "60d4e27d34beca2179537291f6a6c0eefcf5d8ef472d6239e79e4954ea5fbeed"
   }
  }
 },
 "nbformat": 4,
 "nbformat_minor": 2
}
