{
 "cells": [
  {
   "cell_type": "markdown",
   "metadata": {},
   "source": [
    "# Ejercicios: Estructura condicional"
   ]
  },
  {
   "cell_type": "markdown",
   "metadata": {},
   "source": [
    "### Ejercicio 1\n",
    "Escribir un programa que pregunte al usuario su edad y muestre por pantalla si es mayor de edad o no."
   ]
  },
  {
   "cell_type": "code",
   "execution_count": 8,
   "metadata": {},
   "outputs": [
    {
     "name": "stdout",
     "output_type": "stream",
     "text": [
      "eres mayor de edad\n"
     ]
    }
   ],
   "source": [
    "# Solución\n",
    "def mayor_edad():\n",
    "    edad = int(input(\"ingrese su edad\"))\n",
    "\n",
    "    if edad >= 18:  \n",
    "        print (\"eres mayor de edad\")\n",
    "    \n",
    "    else:\n",
    "        print (\"No eres mayor de edad\")    \n",
    "\n",
    "mayor_edad()"
   ]
  },
  {
   "cell_type": "markdown",
   "metadata": {},
   "source": [
    "### Ejercicio 2\n",
    "Escribir un programa que almacene una <span style=\"color:#66D9EF\">contraseña</span> en una variable, pregunte al usuario por la <span style=\"color:#66D9EF\">contraseña</span> e imprima por pantalla si la <span style=\"color:#66D9EF\">contraseña</span> introducida por el usuario coincide con la guardada en la variable sin tener en cuenta mayúsculas y minúsculas."
   ]
  },
  {
   "cell_type": "code",
   "execution_count": 12,
   "metadata": {},
   "outputs": [
    {
     "name": "stdout",
     "output_type": "stream",
     "text": [
      "Contraseña correcta coincide con la guardada en la variable\n"
     ]
    }
   ],
   "source": [
    "# Solución\n",
    "def validacion():\n",
    "    #Se pide crear introducir la contraseña\n",
    "    a  = input(\"Cree una contraseña: \")\n",
    "    b  = input(\"introduzca contraseña creada: \")\n",
    "    #se indica que si son iguales, usando la funcion de python llamada lower para convertir  a minuscula y que coincidan\n",
    "    if b.lower() == a.lower():\n",
    "        print(\"Contraseña correcta coincide con la guardada en la variable\")\n",
    "    else: \n",
    "        print(\"contraseña incorrecta NO coincide con la guardada en la variable\")\n",
    "    \n",
    "validacion()"
   ]
  },
  {
   "cell_type": "markdown",
   "metadata": {},
   "source": [
    "### Ejercicio 3\n",
    "Escribir un programa que pida al usuario dos números y muestre por pantalla su división. Si el divisor es cero el programa debe mostrar un error."
   ]
  },
  {
   "cell_type": "code",
   "execution_count": null,
   "metadata": {},
   "outputs": [],
   "source": [
    "# Solución"
   ]
  },
  {
   "cell_type": "markdown",
   "metadata": {},
   "source": [
    "### Ejercicio 4\n",
    "Escribir un programa que pida al usuario un número entero y muestre por pantalla si es par o impar."
   ]
  },
  {
   "cell_type": "code",
   "execution_count": 32,
   "metadata": {},
   "outputs": [
    {
     "name": "stdout",
     "output_type": "stream",
     "text": [
      "el numero es impar\n"
     ]
    },
    {
     "data": {
      "text/plain": [
       "<function __main__.divisor_0(numero)>"
      ]
     },
     "execution_count": 32,
     "metadata": {},
     "output_type": "execute_result"
    }
   ],
   "source": [
    "# Solución\n",
    "def divisor_0(numero):\n",
    "    if numero % 2 == 0:\n",
    "        return True\n",
    "    else:\n",
    "        return False\n",
    "numero_ingresado = int(input(\"introduzca un entero\"))\n",
    "if divisor_0(numero_ingresado) : \n",
    "        print(\"el numero es par\")\n",
    "else:\n",
    "        print(\"el numero es impar\")\n",
    "divisor_0       "
   ]
  },
  {
   "cell_type": "markdown",
   "metadata": {},
   "source": [
    "### Ejercicio 5\n",
    "Para pagar un determinado impuesto se debe ser mayor de 16 años y tener unos ingresos iguales o superiores a $5000 mensuales. Escribir un programa que pregunte al usuario su edad y sus ingresos mensuales y muestre por pantalla si el usuario tiene que pagar o no."
   ]
  },
  {
   "cell_type": "code",
   "execution_count": 52,
   "metadata": {},
   "outputs": [
    {
     "name": "stdout",
     "output_type": "stream",
     "text": [
      "Debes de pagar impuesto\n"
     ]
    }
   ],
   "source": [
    "# Solución\n",
    "def impuesto(numero):\n",
    "    if numero >= 16 or numero >= 5000:\n",
    "        return True\n",
    "    else:\n",
    "        return False\n",
    "\n",
    "numero = int(input(\"Ingrese su edad: \"))\n",
    "\n",
    "if impuesto(numero):\n",
    "    print(\"Debes de pagar impuesto\") \n",
    "else:\n",
    "    print(\"No debes de pagar impuesto\")"
   ]
  },
  {
   "cell_type": "markdown",
   "metadata": {},
   "source": [
    "### Ejercicio 6\n",
    "Los alumnos de un curso se han dividido en dos grupos A y B de acuerdo al sexo y el nombre. El grupo A esta formado por las mujeres con un nombre anterior a la M y los hombres con un nombre posterior a la N y el grupo B por el resto. Escribir un programa que pregunte al usuario su nombre y sexo, y muestre por pantalla el grupo que le corresponde."
   ]
  },
  {
   "cell_type": "code",
   "execution_count": 55,
   "metadata": {},
   "outputs": [
    {
     "name": "stdout",
     "output_type": "stream",
     "text": [
      "Usted pertenece al Grupo B\n"
     ]
    }
   ],
   "source": [
    "# Solución\n",
    "def determinar_grupo(nombre, sexo):\n",
    "    #determinaomos si el seo es mujer y si la letra es despues de M o N \n",
    "    if (sexo == \"mujer\" and nombre[0].upper() < \"M\") or (sexo == \"hombre\" and nombre[0].upper() > \"N\"):\n",
    "        return \"A\"\n",
    "    else:\n",
    "        return \"B\"\n",
    "\n",
    "nombre = input(\"Ingrese su nombre: \")\n",
    "sexo = input(\"Ingrese su sexo (mujer u hombre): \")\n",
    "\n",
    "grupo = determinar_grupo(nombre, sexo)\n",
    "print(\"Usted pertenece al Grupo\", grupo)\n"
   ]
  },
  {
   "cell_type": "markdown",
   "metadata": {},
   "source": [
    "### Ejercicio 7\n",
    "En una determinada empresa, sus empleados son evaluados al final de cada año. Los puntos que pueden obtener en la evaluación comienzan en 0.0 y pueden ir aumentando, traduciéndose en mejores beneficios. Los puntos que pueden conseguir los empleados pueden ser 0.0, 0.4, 0.6 o más, pero no valores intermedios entre las cifras mencionadas. A continuación se muestra una tabla con los niveles correspondientes a cada puntuación. La cantidad de dinero conseguida en cada nivel es de $2,400 multiplicada por la puntuación del nivel.\n",
    "<center>\n",
    "\n",
    "|Nivel|Puntuación|\n",
    "|:-:|:-:|\n",
    "|Inaceptable|0.0|\n",
    "|Aceptable|0.4|\n",
    "|Meritorio|0.6 o más|\n",
    "\n",
    "Escribir un programa que lea la puntuación del usuario e indique su nivel de rendimiento, así como la cantidad de dinero que recibirá el usuario.\n",
    "\n",
    "\n"
   ]
  },
  {
   "cell_type": "code",
   "execution_count": 58,
   "metadata": {},
   "outputs": [
    {
     "name": "stdout",
     "output_type": "stream",
     "text": [
      "Su nivel de rendimiento es: Meritorio\n",
      "Cantidad de dinero recibido: 720.0\n"
     ]
    }
   ],
   "source": [
    "# Solución\n",
    "def calcular_rendimiento(puntuacion):\n",
    "    if puntuacion == 0.0:\n",
    "        nivel = \"Inaceptable\"\n",
    "    #usamos la estructura de control multiple \n",
    "    elif puntuacion == 0.4:\n",
    "        nivel = \"Aceptable\"\n",
    "    else:\n",
    "        nivel = \"Meritorio\"\n",
    "\n",
    "    dinero_recibido = 2400 * puntuacion\n",
    "    return nivel, dinero_recibido\n",
    "\n",
    "puntuacion_usuario = float(input(\"Ingrese su puntuación en la evaluación: \"))\n",
    "\n",
    "nivel_rendimiento, cantidad_dinero = calcular_rendimiento(puntuacion_usuario)\n",
    "\n",
    "print(\"Su nivel de rendimiento es:\", nivel_rendimiento)\n",
    "print(\"Cantidad de dinero recibido:\", cantidad_dinero)\n"
   ]
  },
  {
   "cell_type": "markdown",
   "metadata": {},
   "source": [
    "### Ejercicio 8\n",
    "Escribir un programa para una empresa que tiene salas de juegos para todas las edades y quiere calcular de forma automática el precio que debe cobrar a sus clientes por entrar. El programa debe preguntar al usuario la edad del cliente y mostrar el precio de la entrada. Si el cliente es menor de 4 años puede entrar gratis, si tiene entre 4 y 18 años debe pagar $5 y si es mayor de 18 años, $10."
   ]
  },
  {
   "cell_type": "code",
   "execution_count": 62,
   "metadata": {},
   "outputs": [
    {
     "name": "stdout",
     "output_type": "stream",
     "text": [
      "El precio de la entrada es: $5\n"
     ]
    }
   ],
   "source": [
    "# Solución\n",
    "def calcular_precio_entrada(edad):\n",
    "    # usamos estructura de control multiple\n",
    "    if edad < 4:\n",
    "        precio = 0\n",
    "    elif 4 <= edad <= 18:\n",
    "        precio = 5\n",
    "    else:\n",
    "        precio = 10\n",
    "    return precio\n",
    "\n",
    "# Pedimos al usuario que ingrese la edad del cliente\n",
    "edad_cliente = int(input(\"Ingrese la edad del cliente: \"))\n",
    "\n",
    "# Calculamos el precio de la entrada utilizando la función calcular_precio_entrada\n",
    "precio_entrada = calcular_precio_entrada(edad_cliente)\n",
    "\n",
    "# Mostramos el precio de la entrada al usuario\n",
    "print(f\"El precio de la entrada es: ${precio_entrada}\")\n"
   ]
  },
  {
   "cell_type": "markdown",
   "metadata": {},
   "source": [
    "### Ejercicio 9\n",
    "La pizzería Planeta ofrece pizzas vegetarianas y no vegetarianas a sus clientes. Los ingredientes para cada tipo de pizza aparecen a continuación.  \n",
    "\n",
    "* Vegetarianos: Pimiento y tofu.  \n",
    "* No vegetarianos: Peperoni, Jamón y Salmón.  \n",
    "\n",
    "Escribir un programa que pregunte al usuario si quiere una pizza vegetariana o no, y en función de su respuesta le muestre un menú con los ingredientes disponibles para que elija. Solo se puede eligir un ingrediente además de la mozzarella y el tomate que están en todas la pizzas. Al final se debe mostrar por pantalla si la pizza elegida es vegetariana o no y todos los ingredientes que lleva.\n",
    "\n",
    "\n"
   ]
  },
  {
   "cell_type": "code",
   "execution_count": 67,
   "metadata": {},
   "outputs": [
    {
     "name": "stdout",
     "output_type": "stream",
     "text": [
      "Bienvenido/a a la pizzería Planeta!\n",
      "¿Qué tipo de pizza desea?\n",
      "1. Pizza vegetariana\n",
      "2. Pizza no vegetariana\n",
      "Ingredientes disponibles para la pizza vegetariana:\n",
      "1. Pimiento\n",
      "2. Tofu\n",
      "Ha elegido una pizza vegetariana con los siguientes ingredientes:\n",
      "Mozzarella\n",
      "Tomate\n",
      "Tofu\n"
     ]
    }
   ],
   "source": [
    "# Solución\n",
    "# Función para elegir el nombre del ingrediente según la opción ingresada\n",
    "def elegir_ingrediente(opcion):\n",
    "    if opcion == 1:\n",
    "        return \"Pimiento\"\n",
    "    elif opcion == 2:\n",
    "        return \"Tofu\"\n",
    "    elif opcion == 3:\n",
    "        return \"Peperoni\"\n",
    "    elif opcion == 4:\n",
    "        return \"Jamón\"\n",
    "    elif opcion == 5:\n",
    "        return \"Salmón\"\n",
    "    else:\n",
    "        return None\n",
    "\n",
    "# Mensaje de bienvenida y opciones de tipos de pizza\n",
    "print(\"Bienvenido/a a la pizzería Planeta!\")\n",
    "print(\"¿Qué tipo de pizza desea?\")\n",
    "print(\"1. Pizza vegetariana\")\n",
    "print(\"2. Pizza no vegetariana\")\n",
    "\n",
    "# Leer la opción del tipo de pizza seleccionada por el usuario\n",
    "tipo_pizza = int(input(\"Ingrese el número de su elección: \"))\n",
    "\n",
    "# Mostrar el menú de ingredientes según el tipo de pizza seleccionado\n",
    "if tipo_pizza == 1:\n",
    "    print(\"Ingredientes disponibles para la pizza vegetariana:\")\n",
    "    print(\"1. Pimiento\")\n",
    "    print(\"2. Tofu\")\n",
    "elif tipo_pizza == 2:\n",
    "    print(\"Ingredientes disponibles para la pizza no vegetariana:\")\n",
    "    print(\"3. Peperoni\")\n",
    "    print(\"4. Jamón\")\n",
    "    print(\"5. Salmón\")\n",
    "\n",
    "# Leer la opción del ingrediente adicional seleccionado por el usuario\n",
    "ingrediente_elegido = int(input(\"Ingrese el número del ingrediente adicional que desea: \"))\n",
    "\n",
    "# Obtener el nombre del ingrediente adicional seleccionado usando la función elegir_ingrediente\n",
    "ingrediente = elegir_ingrediente(ingrediente_elegido)\n",
    "\n",
    "# Evaluar el tipo de pizza seleccionado y mostrar el resultado final\n",
    "if tipo_pizza == 1:\n",
    "    tipo_pizza_str = \"vegetariana\"\n",
    "else:\n",
    "    tipo_pizza_str = \"no vegetariana\"\n",
    "\n",
    "if ingrediente is not None:\n",
    "    print(f\"Ha elegido una pizza {tipo_pizza_str} con los siguientes ingredientes:\")\n",
    "    print(\"Mozzarella\")\n",
    "    print(\"Tomate\")\n",
    "    print(ingrediente)\n",
    "else:\n",
    "    print(\"Opción inválida. Por favor, elija un ingrediente válido.\")\n"
   ]
  }
 ],
 "metadata": {
  "kernelspec": {
   "display_name": "Python 3.11.4 64-bit",
   "language": "python",
   "name": "python3"
  },
  "language_info": {
   "codemirror_mode": {
    "name": "ipython",
    "version": 3
   },
   "file_extension": ".py",
   "mimetype": "text/x-python",
   "name": "python",
   "nbconvert_exporter": "python",
   "pygments_lexer": "ipython3",
   "version": "3.11.4"
  },
  "orig_nbformat": 4,
  "vscode": {
   "interpreter": {
    "hash": "60d4e27d34beca2179537291f6a6c0eefcf5d8ef472d6239e79e4954ea5fbeed"
   }
  }
 },
 "nbformat": 4,
 "nbformat_minor": 2
}
