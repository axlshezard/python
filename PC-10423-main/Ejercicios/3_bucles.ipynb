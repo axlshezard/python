{
 "cells": [
  {
   "cell_type": "markdown",
   "metadata": {},
   "source": [
    "# Ejercicios: Estructuras iterativas\n",
    "\n"
   ]
  },
  {
   "cell_type": "markdown",
   "metadata": {},
   "source": [
    "### Ejercicio 1\n",
    "Calcular la media de los números pares e impares, sólo se ingresará diez números."
   ]
  },
  {
   "cell_type": "code",
   "execution_count": 1,
   "metadata": {},
   "outputs": [
    {
     "name": "stdout",
     "output_type": "stream",
     "text": [
      "La media de los números pares es: 5.2\n",
      "La media de los números impares es: 5.8\n"
     ]
    }
   ],
   "source": [
    "# Solución\n",
    "# Inicializar variables para almacenar las sumas y contadores\n",
    "suma_pares = 0\n",
    "suma_impares = 0\n",
    "contador_pares = 0\n",
    "contador_impares = 0\n",
    "\n",
    "# Pedir al usuario que ingrese diez números uno por uno\n",
    "for i in range(10):                                \n",
    "    numero = int(input(\"Ingrese el número {i+1}: \"))\n",
    "\n",
    "    # Verificar si el número es par o impar y sumarlo a la suma correspondiente\n",
    "    if numero % 2 == 0:\n",
    "        suma_pares += numero\n",
    "        contador_pares += 1\n",
    "    else:\n",
    "        suma_impares += numero\n",
    "        contador_impares += 1\n",
    "\n",
    "# Calcular la media de los números pares e impares\n",
    "media_pares = suma_pares / contador_pares\n",
    "media_impares = suma_impares / contador_impares\n",
    "\n",
    "# Mostrar por pantalla la media de los números pares e impares\n",
    "print(\"La media de los números pares es:\", media_pares)\n",
    "print(\"La media de los números impares es:\", media_impares)\n"
   ]
  },
  {
   "cell_type": "markdown",
   "metadata": {},
   "source": [
    "    ### Ejercicio 2\n",
    "    Calcular la suma de los n primeros números."
   ]
  },
  {
   "cell_type": "code",
   "execution_count": 14,
   "metadata": {},
   "outputs": [
    {
     "name": "stdout",
     "output_type": "stream",
     "text": [
      "La suma de los 4 primeros números es: 10\n"
     ]
    }
   ],
   "source": [
    "def calcular_suma(n):\n",
    "    suma = 0\n",
    "    for i in range(1, n + 1):  # Iteramos desde 1 hasta n (incluyendo n)\n",
    "        suma += i  # Sumamos el número actual a la suma acumulada\n",
    "    return suma\n",
    "\n",
    "n = int(input(\"Ingrese el valor de n: \"))\n",
    "resultado = calcular_suma(n)\n",
    "print(\"La suma de los\", n, \"primeros números es:\", resultado)\n"
   ]
  },
  {
   "cell_type": "markdown",
   "metadata": {},
   "source": [
    "### Ejercicio 3\n",
    "Se quiere saber cuál es la ciudad con la población de más personas, son tres estados  con once ciudades, hacer un algoritmo que nos permita saber eso."
   ]
  },
  {
   "cell_type": "code",
   "execution_count": 28,
   "metadata": {},
   "outputs": [
    {
     "name": "stdout",
     "output_type": "stream",
     "text": [
      "Estado 1:\n",
      "Ciudad con mayor población: Ciudad 4\n",
      "Población: 300\n",
      "\n",
      "Estado 2:\n",
      "Ciudad con mayor población: Ciudad 7\n",
      "Población: 430\n",
      "\n",
      "Estado 3:\n",
      "Ciudad con mayor población: Ciudad 11\n",
      "Población: 600\n",
      "\n",
      "Ciudad con mayor población en general es: Ciudad 11\n",
      "Estado: Estado 3\n",
      "Población: 600\n"
     ]
    }
   ],
   "source": [
    "# las poblaciones de las 11 ciudades para cada estado\n",
    "poblacion_estado1 = [100, 200, 150, 300, 250, 180, 220, 190, 210, 280, 240]\n",
    "poblacion_estado2 = [350, 400, 380, 420, 390, 410, 430, 370, 360, 340, 330]\n",
    "poblacion_estado3 = [550, 520, 590, 580, 530, 540, 510, 560, 570, 500, 600]\n",
    "\n",
    "# ciudad con mayor población de cada estado\n",
    "mayor_poblacion_estado1 = max(poblacion_estado1)\n",
    "mayor_poblacion_estado2 = max(poblacion_estado2)\n",
    "mayor_poblacion_estado3 = max(poblacion_estado3)\n",
    "\n",
    "# creamos índice de la ciudad con mayor población en cada estado\n",
    "indice_mayor_poblacion_estado1 = poblacion_estado1.index(mayor_poblacion_estado1)\n",
    "indice_mayor_poblacion_estado2 = poblacion_estado2.index(mayor_poblacion_estado2)\n",
    "indice_mayor_poblacion_estado3 = poblacion_estado3.index(mayor_poblacion_estado3)\n",
    "\n",
    "# Lista con las 11 ciudades \n",
    "ciudades = ['Ciudad 1', 'Ciudad 2', 'Ciudad 3', 'Ciudad 4', 'Ciudad 5', 'Ciudad 6', 'Ciudad 7', 'Ciudad 8', 'Ciudad 9', 'Ciudad 10', 'Ciudad 11']\n",
    "\n",
    "# almacenamos la información de cada estado\n",
    "datos_estados = {\n",
    "    \"Estado 1\": {\"Ciudad\": ciudades[indice_mayor_poblacion_estado1], \"Población\": mayor_poblacion_estado1},\n",
    "    \"Estado 2\": {\"Ciudad\": ciudades[indice_mayor_poblacion_estado2], \"Población\": mayor_poblacion_estado2},\n",
    "    \"Estado 3\": {\"Ciudad\": ciudades[indice_mayor_poblacion_estado3], \"Población\": mayor_poblacion_estado3}\n",
    "}\n",
    "\n",
    "# Mostramos los resultados por estado\n",
    "for estado, datos in datos_estados.items():\n",
    "    print(estado + \":\")\n",
    "    print(\"Ciudad con mayor población:\", datos[\"Ciudad\"])\n",
    "    print(\"Población:\", datos[\"Población\"])\n",
    "    print()\n",
    "\n",
    "# Encontramos la ciudad con mayor población entre los tres estados\n",
    "mayor_poblacion_general = max(datos_estados, key=lambda x: datos_estados[x][\"Población\"])\n",
    "ciudad_mayor_poblacion_general = datos_estados[mayor_poblacion_general][\"Ciudad\"]\n",
    "poblacion_mayor_poblacion_general = datos_estados[mayor_poblacion_general][\"Población\"]\n",
    "\n",
    "# Mostramos la ciudad con mayor población en general\n",
    "print(\"Ciudad con mayor población en general es:\", ciudad_mayor_poblacion_general)\n",
    "print(\"Estado:\", mayor_poblacion_general)\n",
    "print(\"Población:\", poblacion_mayor_poblacion_general)\n"
   ]
  },
  {
   "cell_type": "markdown",
   "metadata": {},
   "source": [
    "### Ejercicio 4\n",
    "Imprimir las tablas de multiplicar de los números del uno al nueve."
   ]
  },
  {
   "cell_type": "code",
   "execution_count": 32,
   "metadata": {},
   "outputs": [
    {
     "name": "stdout",
     "output_type": "stream",
     "text": [
      "Tabla de multiplicar del 1:\n",
      "1 x 1 = 1\n",
      "1 x 2 = 2\n",
      "1 x 3 = 3\n",
      "1 x 4 = 4\n",
      "1 x 5 = 5\n",
      "1 x 6 = 6\n",
      "1 x 7 = 7\n",
      "1 x 8 = 8\n",
      "1 x 9 = 9\n",
      "1 x 10 = 10\n",
      "\n",
      "Tabla de multiplicar del 2:\n",
      "2 x 1 = 2\n",
      "2 x 2 = 4\n",
      "2 x 3 = 6\n",
      "2 x 4 = 8\n",
      "2 x 5 = 10\n",
      "2 x 6 = 12\n",
      "2 x 7 = 14\n",
      "2 x 8 = 16\n",
      "2 x 9 = 18\n",
      "2 x 10 = 20\n",
      "\n",
      "Tabla de multiplicar del 3:\n",
      "3 x 1 = 3\n",
      "3 x 2 = 6\n",
      "3 x 3 = 9\n",
      "3 x 4 = 12\n",
      "3 x 5 = 15\n",
      "3 x 6 = 18\n",
      "3 x 7 = 21\n",
      "3 x 8 = 24\n",
      "3 x 9 = 27\n",
      "3 x 10 = 30\n",
      "\n",
      "Tabla de multiplicar del 4:\n",
      "4 x 1 = 4\n",
      "4 x 2 = 8\n",
      "4 x 3 = 12\n",
      "4 x 4 = 16\n",
      "4 x 5 = 20\n",
      "4 x 6 = 24\n",
      "4 x 7 = 28\n",
      "4 x 8 = 32\n",
      "4 x 9 = 36\n",
      "4 x 10 = 40\n",
      "\n",
      "Tabla de multiplicar del 5:\n",
      "5 x 1 = 5\n",
      "5 x 2 = 10\n",
      "5 x 3 = 15\n",
      "5 x 4 = 20\n",
      "5 x 5 = 25\n",
      "5 x 6 = 30\n",
      "5 x 7 = 35\n",
      "5 x 8 = 40\n",
      "5 x 9 = 45\n",
      "5 x 10 = 50\n",
      "\n",
      "Tabla de multiplicar del 6:\n",
      "6 x 1 = 6\n",
      "6 x 2 = 12\n",
      "6 x 3 = 18\n",
      "6 x 4 = 24\n",
      "6 x 5 = 30\n",
      "6 x 6 = 36\n",
      "6 x 7 = 42\n",
      "6 x 8 = 48\n",
      "6 x 9 = 54\n",
      "6 x 10 = 60\n",
      "\n",
      "Tabla de multiplicar del 7:\n",
      "7 x 1 = 7\n",
      "7 x 2 = 14\n",
      "7 x 3 = 21\n",
      "7 x 4 = 28\n",
      "7 x 5 = 35\n",
      "7 x 6 = 42\n",
      "7 x 7 = 49\n",
      "7 x 8 = 56\n",
      "7 x 9 = 63\n",
      "7 x 10 = 70\n",
      "\n",
      "Tabla de multiplicar del 8:\n",
      "8 x 1 = 8\n",
      "8 x 2 = 16\n",
      "8 x 3 = 24\n",
      "8 x 4 = 32\n",
      "8 x 5 = 40\n",
      "8 x 6 = 48\n",
      "8 x 7 = 56\n",
      "8 x 8 = 64\n",
      "8 x 9 = 72\n",
      "8 x 10 = 80\n",
      "\n",
      "Tabla de multiplicar del 9:\n",
      "9 x 1 = 9\n",
      "9 x 2 = 18\n",
      "9 x 3 = 27\n",
      "9 x 4 = 36\n",
      "9 x 5 = 45\n",
      "9 x 6 = 54\n",
      "9 x 7 = 63\n",
      "9 x 8 = 72\n",
      "9 x 9 = 81\n",
      "9 x 10 = 90\n",
      "\n"
     ]
    }
   ],
   "source": [
    "# Solución\n",
    "# Bucle externo para recorrer los números del 1 al 9\n",
    "for numero in range(1, 10):\n",
    "    print(f\"Tabla de multiplicar del {numero}:\")\n",
    "    \n",
    "    # Bucle interno para generar y mostrar la tabla de multiplicar del número actual\n",
    "    for multiplicador in range(1, 11):\n",
    "        resultado = numero * multiplicador\n",
    "        print(f\"{numero} x {multiplicador} = {resultado}\")\n",
    "    \n",
    "    # Agregar una línea en blanco para separar las tablas\n",
    "    print()\n"
   ]
  },
  {
   "cell_type": "markdown",
   "metadata": {},
   "source": [
    "### Ejercicio 5\n",
    "Calcular el factorial de un número."
   ]
  },
  {
   "cell_type": "code",
   "execution_count": 34,
   "metadata": {},
   "outputs": [
    {
     "name": "stdout",
     "output_type": "stream",
     "text": [
      "El factorial de 4 es: 24\n"
     ]
    }
   ],
   "source": [
    "# Solución\n",
    "def calcular_factorial(numero):\n",
    "    factorial = 1\n",
    "    for i in range(1, numero + 1):\n",
    "        factorial *= i\n",
    "    return factorial\n",
    "\n",
    "# Solicitar al usuario ingresar el número para calcular su factorial\n",
    "numero = int(input(\"Ingrese un número entero no negativo: \"))\n",
    "\n",
    "if numero < 0:\n",
    "    print(\"El número debe ser no negativo.\")\n",
    "else:\n",
    "    resultado = calcular_factorial(numero)\n",
    "    print(f\"El factorial de {numero} es: {resultado}\")\n"
   ]
  },
  {
   "cell_type": "markdown",
   "metadata": {},
   "source": [
    "### Ejercicio 6\n",
    "Hacer un algoritmo que nos diga si un número es primo."
   ]
  },
  {
   "cell_type": "code",
   "execution_count": 6,
   "metadata": {},
   "outputs": [
    {
     "name": "stdout",
     "output_type": "stream",
     "text": [
      "El numero 2, es numero primo.\n"
     ]
    }
   ],
   "source": [
    "primo=int(input(\"Numero a verificar si es primo: \\n\"))\n",
    "if primo > 1:\n",
    "  if primo == 2:\n",
    "    print(\"El numero 2, es numero primo.\")\n",
    "  else:\n",
    "    for i in range (2,primo):\n",
    "      if primo % i == 0:\n",
    "        print(f\"El numero {primo} no es primo, por que es divisible entre {i}\")\n",
    "        break\n",
    "      elif (i+1==primo) and (primo % i):\n",
    "        print(f\"El numero {primo}, es numero primo.\")"
   ]
  },
  {
   "cell_type": "markdown",
   "metadata": {},
   "source": []
  },
  {
   "cell_type": "markdown",
   "metadata": {},
   "source": []
  },
  {
   "cell_type": "code",
   "execution_count": 4,
   "metadata": {},
   "outputs": [
    {
     "name": "stdout",
     "output_type": "stream",
     "text": [
      "6 no es un número primo.\n"
     ]
    }
   ],
   "source": [
    "import math\n",
    "\n",
    "def es_primo(numero):\n",
    "    if numero <= 1:\n",
    "        return False\n",
    "    for i in range(2, math.isqrt(numero) + 1):\n",
    "        if numero % i == 0:\n",
    "            return False\n",
    "    return True\n",
    "\n",
    "# Solicitar al usuario ingresar el número para verificar si es primo\n",
    "numero = int(input(\"Ingrese un número entero mayor que 1: \"))\n",
    "\n",
    "if es_primo(numero):\n",
    "    print(f\"{numero} es un número primo.\")\n",
    "else:\n",
    "    print(f\"{numero} no es un número primo.\")\n"
   ]
  },
  {
   "cell_type": "markdown",
   "metadata": {},
   "source": [
    "### Ejercicio 7\n",
    "Hacer un algoritmo que nos imprima los números primos en el rango [2,N]."
   ]
  },
  {
   "cell_type": "code",
   "execution_count": 37,
   "metadata": {},
   "outputs": [
    {
     "name": "stdout",
     "output_type": "stream",
     "text": [
      "Números primos en el rango [2, N]: [2, 3, 5]\n"
     ]
    }
   ],
   "source": [
    "# Solución\n",
    "import math\n",
    "\n",
    "def es_primo(numero):\n",
    "    if numero <= 1:\n",
    "        return False\n",
    "    for i in range(2, math.isqrt(numero) + 1):\n",
    "        if numero % i == 0:\n",
    "            return False\n",
    "    return True\n",
    "\n",
    "# Solicitar al usuario ingresar el valor de N\n",
    "N = int(input(\"Ingrese el valor de N para encontrar los números primos en el rango [2, N]: \"))\n",
    "\n",
    "numeros_primos = []  # Lista para almacenar los números primos encontrados\n",
    "\n",
    "# Encontrar los números primos en el rango [2, N]\n",
    "for num in range(2, N + 1):\n",
    "    if es_primo(num):\n",
    "        numeros_primos.append(num)\n",
    "\n",
    "# Mostrar los números primos encontrados\n",
    "print(\"Números primos en el rango [2, N]:\", numeros_primos)\n"
   ]
  },
  {
   "cell_type": "markdown",
   "metadata": {},
   "source": [
    "### Ejercicio 8\n",
    "Hacer un algoritmo que nos permita saber cuál es el número mayor y menor, se debe ingresar sólo veinte números."
   ]
  },
  {
   "cell_type": "code",
   "execution_count": 3,
   "metadata": {},
   "outputs": [
    {
     "name": "stdout",
     "output_type": "stream",
     "text": [
      "Error: Debes ingresar solo números.\n"
     ]
    }
   ],
   "source": [
    "def ingresar_veinte_numeros():\n",
    "    numeros = []\n",
    "    try:\n",
    "        for i in range(20):\n",
    "            numero = int(input(\"Ingrese el número {}/20: \".format(i + 1)))\n",
    "            numeros.append(numero)\n",
    "\n",
    "        mas = max(numeros)\n",
    "        menos = min(numeros)\n",
    "\n",
    "        print(\"El número más grande es:\", mas)\n",
    "        print(\"El número más pequeño es:\", menos)\n",
    "    except ValueError:\n",
    "        print(\"Error: Debes ingresar solo números.\")\n",
    "\n",
    "# Llamamos a la función para probarla\n",
    "ingresar_veinte_numeros()\n"
   ]
  },
  {
   "cell_type": "markdown",
   "metadata": {},
   "source": [
    "### Ejercicio 9\n",
    "Hacer un algoritmo para calcular la serie de Fibonacci."
   ]
  },
  {
   "cell_type": "code",
   "execution_count": null,
   "metadata": {},
   "outputs": [],
   "source": [
    "# Solución"
   ]
  },
  {
   "cell_type": "markdown",
   "metadata": {},
   "source": [
    "### Ejercicio 10\n",
    "Hacer un algoritmo para conseguir el M.C.D de un número por medio del algoritmo de Euclides."
   ]
  },
  {
   "cell_type": "code",
   "execution_count": null,
   "metadata": {},
   "outputs": [],
   "source": [
    "# Solución"
   ]
  }
 ],
 "metadata": {
  "kernelspec": {
   "display_name": "Python 3.11.4 64-bit",
   "language": "python",
   "name": "python3"
  },
  "language_info": {
   "codemirror_mode": {
    "name": "ipython",
    "version": 3
   },
   "file_extension": ".py",
   "mimetype": "text/x-python",
   "name": "python",
   "nbconvert_exporter": "python",
   "pygments_lexer": "ipython3",
   "version": "3.11.4"
  },
  "orig_nbformat": 4,
  "vscode": {
   "interpreter": {
    "hash": "60d4e27d34beca2179537291f6a6c0eefcf5d8ef472d6239e79e4954ea5fbeed"
   }
  }
 },
 "nbformat": 4,
 "nbformat_minor": 2
}
